{
 "cells": [
  {
   "cell_type": "markdown",
   "id": "91ed4a60",
   "metadata": {},
   "source": [
    "<div>\n",
    "    <h2 align=\"center\"><font color=\"blue\"> Artificial Intelligence Lab 11 – Tasks </font></h2> \n",
    "    <h4 align=\"center\"> SUMMER LAB PROJECT </h4>\n",
    "    <h5 align=\"center\"> Ahmad Ali Tabassam, Lecturer (CS) </h5>\n",
    "    <h5 align=\"center\"> FAST School of Computing, Chiniot-Faisalabad Campus </h5>\n",
    "</div>"
   ]
  },
  {
   "cell_type": "markdown",
   "id": "cb3b98a7",
   "metadata": {},
   "source": [
    "<div>\n",
    "    <h1> <font color=\"red\">  Lab 01  </font></h1>\n",
    "</div>"
   ]
  },
  {
   "cell_type": "markdown",
   "id": "443f2051",
   "metadata": {},
   "source": [
    "### 1. There are 2 sisters, Anaya and Javeria, born in 1996 and 1999 respectively. They want to know who was born in a leap year. Write an if-else statement to determine who was born in a leap year."
   ]
  },
  {
   "cell_type": "code",
   "execution_count": 1,
   "id": "085fabba",
   "metadata": {},
   "outputs": [
    {
     "name": "stdout",
     "output_type": "stream",
     "text": [
      "Anaya was born in a Leap year.\n"
     ]
    }
   ],
   "source": [
    "anaya = 1996\n",
    "javeria = 1999\n",
    "\n",
    "if anaya % 4 == 0:\n",
    "    print(\"Anaya was born in a Leap year.\")\n",
    "elif javeria % 4 == 0:\n",
    "    print(\"Javeria was born in a Leap year.\")\n",
    "else:\n",
    "    prnt(\"No one was born in a Leap year.\")"
   ]
  },
  {
   "cell_type": "markdown",
   "id": "001b9187",
   "metadata": {},
   "source": [
    "### 2. In a school canteen, children under the age of 9 are only given milk for breakfast. Children from 10 to 14 are given a sandwich, and children from 15 to 17 are given a burger. The canteen master asks the age of the student and gives them breakfast accordingly. Sami's age is 10. Use if-else statement to determine what the canteen master will offer to him."
   ]
  },
  {
   "cell_type": "code",
   "execution_count": 2,
   "id": "1f878d1b",
   "metadata": {},
   "outputs": [
    {
     "name": "stdout",
     "output_type": "stream",
     "text": [
      "You have SANDWICH for breakfast.\n"
     ]
    }
   ],
   "source": [
    "sami = 10\n",
    "\n",
    "if sami <= 9:\n",
    "    print(\"You have MILK for breakfast.\")\n",
    "elif sami >= 10 and sami <= 14:\n",
    "    print(\"You have SANDWICH for breakfast.\")\n",
    "elif sami >= 15 and sami <= 17:\n",
    "    print(\"You have BURGER for breakfast.\")"
   ]
  },
  {
   "cell_type": "markdown",
   "id": "9170e828",
   "metadata": {},
   "source": [
    "### Create a list a_list, with the following elements 1, hello, [1,2,3] and True."
   ]
  },
  {
   "cell_type": "code",
   "execution_count": 3,
   "id": "804e9812",
   "metadata": {},
   "outputs": [
    {
     "data": {
      "text/plain": [
       "4"
      ]
     },
     "execution_count": 3,
     "metadata": {},
     "output_type": "execute_result"
    }
   ],
   "source": [
    "a_list = [1, 'hello', [1,2,3], True]\n",
    "len(a_list)"
   ]
  },
  {
   "cell_type": "markdown",
   "id": "0a16c163",
   "metadata": {},
   "source": [
    "### Find the value stored at index 1 of a_list."
   ]
  },
  {
   "cell_type": "code",
   "execution_count": 4,
   "id": "b993db83",
   "metadata": {},
   "outputs": [
    {
     "data": {
      "text/plain": [
       "'hello'"
      ]
     },
     "execution_count": 4,
     "metadata": {},
     "output_type": "execute_result"
    }
   ],
   "source": [
    "a_list[1]"
   ]
  },
  {
   "cell_type": "markdown",
   "id": "4c8c0f67",
   "metadata": {},
   "source": [
    "### Retrieve the elements stored at index 1, 2 and 3 of a_list."
   ]
  },
  {
   "cell_type": "code",
   "execution_count": 5,
   "id": "707a84e0",
   "metadata": {},
   "outputs": [
    {
     "data": {
      "text/plain": [
       "['hello', [1, 2, 3], True]"
      ]
     },
     "execution_count": 5,
     "metadata": {},
     "output_type": "execute_result"
    }
   ],
   "source": [
    "a_list[1:4]"
   ]
  },
  {
   "cell_type": "markdown",
   "id": "1d933b05",
   "metadata": {},
   "source": [
    "### Concatenate the following lists A = [1, 'a'] and B = [2, 1, 'd']:"
   ]
  },
  {
   "cell_type": "code",
   "execution_count": 6,
   "id": "2a7705fb",
   "metadata": {},
   "outputs": [
    {
     "data": {
      "text/plain": [
       "[1, 'a', 2, 1, 'd']"
      ]
     },
     "execution_count": 6,
     "metadata": {},
     "output_type": "execute_result"
    }
   ],
   "source": [
    "A = [1, 'a'] \n",
    "B = [2, 1, 'd']\n",
    "A + B"
   ]
  },
  {
   "cell_type": "markdown",
   "id": "6ef3bbc0",
   "metadata": {},
   "source": [
    "### Consider the following tuple:"
   ]
  },
  {
   "cell_type": "code",
   "execution_count": 7,
   "id": "819a3d2a",
   "metadata": {},
   "outputs": [
    {
     "data": {
      "text/plain": [
       "['hard rock', 'pop', 'r&b', 'rock', 'soft rock', 'soul']"
      ]
     },
     "execution_count": 7,
     "metadata": {},
     "output_type": "execute_result"
    }
   ],
   "source": [
    "genres_tuple = (\"pop\", \"rock\", \"hard rock\", \"soul\", \"soft rock\",\n",
    "                \"r&b\") \n",
    "genres_tuple1 = sorted(genres_tuple)\n",
    "genres_tuple1"
   ]
  },
  {
   "cell_type": "markdown",
   "id": "01d26d7b",
   "metadata": {},
   "source": [
    "### Find the length of the tuple, genres_tuple:"
   ]
  },
  {
   "cell_type": "code",
   "execution_count": 8,
   "id": "09166b0b",
   "metadata": {},
   "outputs": [
    {
     "data": {
      "text/plain": [
       "6"
      ]
     },
     "execution_count": 8,
     "metadata": {},
     "output_type": "execute_result"
    }
   ],
   "source": [
    "len(genres_tuple)"
   ]
  },
  {
   "cell_type": "markdown",
   "id": "f4fc5dbe",
   "metadata": {},
   "source": [
    "### Access the element, with respect to index 3:"
   ]
  },
  {
   "cell_type": "code",
   "execution_count": 9,
   "id": "2a29d84b",
   "metadata": {},
   "outputs": [
    {
     "data": {
      "text/plain": [
       "'soul'"
      ]
     },
     "execution_count": 9,
     "metadata": {},
     "output_type": "execute_result"
    }
   ],
   "source": [
    "genres_tuple[3]"
   ]
  },
  {
   "cell_type": "markdown",
   "id": "0316e0ca",
   "metadata": {},
   "source": [
    "### Use slicing to obtain indexes 3, 4 and 5:"
   ]
  },
  {
   "cell_type": "code",
   "execution_count": 10,
   "id": "8480f793",
   "metadata": {},
   "outputs": [
    {
     "data": {
      "text/plain": [
       "('soul', 'soft rock', 'r&b')"
      ]
     },
     "execution_count": 10,
     "metadata": {},
     "output_type": "execute_result"
    }
   ],
   "source": [
    "genres_tuple[3:6]"
   ]
  },
  {
   "cell_type": "markdown",
   "id": "7ff43cf8",
   "metadata": {},
   "source": [
    "### Find the first two elements of the tuple genres_tuple:"
   ]
  },
  {
   "cell_type": "code",
   "execution_count": 12,
   "id": "21f18925",
   "metadata": {},
   "outputs": [
    {
     "data": {
      "text/plain": [
       "('pop', 'rock')"
      ]
     },
     "execution_count": 12,
     "metadata": {},
     "output_type": "execute_result"
    }
   ],
   "source": [
    "genres_tuple[0:2]"
   ]
  },
  {
   "cell_type": "markdown",
   "id": "46040fef",
   "metadata": {},
   "source": [
    "### Find the first index of \"disco\":"
   ]
  },
  {
   "cell_type": "code",
   "execution_count": 14,
   "id": "d350eac9",
   "metadata": {
    "collapsed": true
   },
   "outputs": [
    {
     "ename": "ValueError",
     "evalue": "tuple.index(x): x not in tuple",
     "output_type": "error",
     "traceback": [
      "\u001b[1;31m---------------------------------------------------------------------------\u001b[0m",
      "\u001b[1;31mValueError\u001b[0m                                Traceback (most recent call last)",
      "Cell \u001b[1;32mIn[14], line 1\u001b[0m\n\u001b[1;32m----> 1\u001b[0m genres_tuple\u001b[38;5;241m.\u001b[39mindex(\u001b[38;5;124m\"\u001b[39m\u001b[38;5;124mdisco\u001b[39m\u001b[38;5;124m\"\u001b[39m)\n",
      "\u001b[1;31mValueError\u001b[0m: tuple.index(x): x not in tuple"
     ]
    }
   ],
   "source": [
    "genres_tuple.index(\"disco\")"
   ]
  },
  {
   "cell_type": "markdown",
   "id": "fa148426",
   "metadata": {},
   "source": [
    "### Generate a sorted List from the Tuple C_tuple=(-5, 1, -3):"
   ]
  },
  {
   "cell_type": "code",
   "execution_count": 15,
   "id": "a38b6fe4",
   "metadata": {},
   "outputs": [
    {
     "data": {
      "text/plain": [
       "[-5, -3, 1]"
      ]
     },
     "execution_count": 15,
     "metadata": {},
     "output_type": "execute_result"
    }
   ],
   "source": [
    "C_tuple = (-5, 1, -3)\n",
    "C_list = sorted(C_tuple)\n",
    "C_list"
   ]
  },
  {
   "cell_type": "markdown",
   "id": "65736859",
   "metadata": {},
   "source": [
    "<div>\n",
    "    <h1> <font color=\"red\">  Lab 02  </font></h1>\n",
    "</div>"
   ]
  },
  {
   "cell_type": "markdown",
   "id": "da4c25ff",
   "metadata": {},
   "source": [
    "### Use the function con for the following question."
   ]
  },
  {
   "cell_type": "code",
   "execution_count": 17,
   "id": "4628a223",
   "metadata": {},
   "outputs": [],
   "source": [
    "def con(a, b):\n",
    "    return(a + b)"
   ]
  },
  {
   "cell_type": "markdown",
   "id": "75fade80",
   "metadata": {},
   "source": [
    "### Can the con function we defined before be used to add two integers or strings?"
   ]
  },
  {
   "cell_type": "code",
   "execution_count": 18,
   "id": "1e420e41",
   "metadata": {},
   "outputs": [
    {
     "name": "stdout",
     "output_type": "stream",
     "text": [
      "Lab2\n",
      "3\n"
     ]
    }
   ],
   "source": [
    "print(con('Lab', '2'))\n",
    "print(con(1, 2))"
   ]
  },
  {
   "cell_type": "markdown",
   "id": "d98e3040",
   "metadata": {},
   "source": [
    "### Can the con function we defined before be used to concatenate lists or tuples?"
   ]
  },
  {
   "cell_type": "code",
   "execution_count": 19,
   "id": "03760539",
   "metadata": {},
   "outputs": [
    {
     "name": "stdout",
     "output_type": "stream",
     "text": [
      "Concatenated Lists: [1, 2, 3, 4]\n",
      "Concatenated Tuples: (1, 2, 3, 4)\n"
     ]
    }
   ],
   "source": [
    "l1 = [1, 2]\n",
    "l2 = [3, 4]\n",
    "\n",
    "print(\"Concatenated Lists:\", con(l1, l2))\n",
    "\n",
    "t1 = (1, 2)\n",
    "t2 = (3, 4)\n",
    "\n",
    "print(\"Concatenated Tuples:\", con(t1, t2))"
   ]
  },
  {
   "cell_type": "markdown",
   "id": "e5820df5",
   "metadata": {},
   "source": [
    "### Write a function code to find total count of word little in the given string: \"Mary had a little lamb Little lamb, little lamb Mary had a little lamb.Its fleece was white as snow And everywhere that Mary went Mary went, Mary went Everywhere that Mary went The lamb was sure to go\"**"
   ]
  },
  {
   "cell_type": "code",
   "execution_count": 20,
   "id": "c7388efd",
   "metadata": {},
   "outputs": [
    {
     "name": "stdout",
     "output_type": "stream",
     "text": [
      "Count of word 'little' = 4\n"
     ]
    }
   ],
   "source": [
    "def wordCount(string):\n",
    "    l1 = []\n",
    "    l1 = string.lower().split()\n",
    "    count = 0\n",
    "    for i in l1:\n",
    "        if i == \"little\":\n",
    "            count+=1\n",
    "    return count\n",
    "\n",
    "string = \"Mary had a little lamb Little lamb, little lamb Mary had a little lamb.Its fleece was white as snow And everywhere that Mary went Mary went, Mary went Everywhere that Mary went The lamb was sure to go\"\n",
    "print(\"Count of word 'little' =\", wordCount(string))"
   ]
  },
  {
   "cell_type": "markdown",
   "id": "276578a2",
   "metadata": {},
   "source": [
    "### Lab Task 1 - Calculator"
   ]
  },
  {
   "cell_type": "code",
   "execution_count": 25,
   "id": "e13e8f17",
   "metadata": {
    "collapsed": true
   },
   "outputs": [
    {
     "name": "stdout",
     "output_type": "stream",
     "text": [
      "Enter value of a: 5\n",
      "Enter value of b: 10\n",
      "\n",
      "a = 5 and b = 10 \n",
      "\n",
      "5 + 10 = 15\n",
      "5 - 10 = 5\n",
      "5 * 10 = 50\n",
      "5 / 10 = 2.0 \n",
      "\n",
      "Enter value of c: 6\n",
      "Enter value of d: 2\n",
      "\n",
      "c = 6 and d = 2 \n",
      "\n",
      "6 + 2 = 8\n",
      "2 - 6 = 4\n",
      "6 * 2 = 12\n",
      "2 / 6 = 3.0\n"
     ]
    }
   ],
   "source": [
    "class Calculator():\n",
    "    def __init__(self, a, b):\n",
    "        self.a = int(a)\n",
    "        self.b = int(b)\n",
    "        \n",
    "    def add(self):\n",
    "        self.c = self.a + self.b\n",
    "        return self.c\n",
    "    \n",
    "    def sub(self):\n",
    "        if self.a > self.b:\n",
    "            self.c = self.a - self.b\n",
    "        else:\n",
    "            self.c = self.b - self.a\n",
    "        return self.c\n",
    "    \n",
    "    def mul(self):\n",
    "        self.c = self.a * self.b\n",
    "        return self.c\n",
    "    \n",
    "    def div(self):\n",
    "        if self.a > self.b:\n",
    "            self.c = self.a / self.b\n",
    "        else:\n",
    "            self.c = self.b / self.a\n",
    "        return self.c\n",
    "    \n",
    "\n",
    "a = input(\"Enter value of a: \")\n",
    "b = input(\"Enter value of b: \")\n",
    "\n",
    "print(\"\\na =\", a, \"and b =\", b, \"\\n\")\n",
    "obj1 = Calculator(a, b)\n",
    "print(a, \"+\", b, \"=\", obj1.add())\n",
    "print(a, \"-\", b, \"=\", obj1.sub())\n",
    "print(a, \"*\", b, \"=\", obj1.mul())\n",
    "print(a, \"/\", b, \"=\", obj1.div(), \"\\n\")\n",
    "\n",
    "c = input(\"Enter value of c: \")\n",
    "d = input(\"Enter value of d: \")\n",
    "\n",
    "print(\"\\nc =\", c, \"and d =\", d, \"\\n\")\n",
    "obj2 = Calculator(c, d)\n",
    "print(c, \"+\", d, \"=\", obj2.add())\n",
    "print(d, \"-\", c, \"=\", obj2.sub())\n",
    "print(c, \"*\", d, \"=\", obj2.mul())\n",
    "print(d, \"/\", c, \"=\", obj2.div())"
   ]
  },
  {
   "cell_type": "markdown",
   "id": "6f14459a",
   "metadata": {},
   "source": [
    "### Lab Task 2 - Graph\n",
    "### Write a Python Program that defines a class Graph that represents a weighted directed graph using an adjacency list of the given graph. The class has add_vertex(self, v) function: to adds a vertex v to the graph, add_edge(self, v1, v2, w): to add a directed edge from vertex v1 to vertex v2 with weight w, and print_graph(self): to print (showing) each vertex and its outgoing edges with weights.\n",
    "\n",
    "### Note:\n",
    "### The function add_vertex(self, v), checks if the vertex already exists, if it does not, it increments the vertex counter and adds v to the self.graph dictionary with an empty list as its value.\n",
    "### The function add_edge(self, v1, v2, e), checks if both vertices v1 and v2 exist in the graph, if both exist, it appends [v2, w] to the list of edges for vertex v1."
   ]
  },
  {
   "cell_type": "code",
   "execution_count": 144,
   "id": "e25d3a11",
   "metadata": {},
   "outputs": [
    {
     "name": "stdout",
     "output_type": "stream",
     "text": [
      "0 - 1 with weight 3\n",
      "0 - 3 with weight 7\n",
      "0 - 4 with weight 8\n",
      "1 - 2 with weight 1\n",
      "1 - 3 with weight 4\n",
      "1 - 0 with weight 3\n",
      "2 - 1 with weight 1\n",
      "2 - 3 with weight 2\n",
      "3 - 0 with weight 7\n",
      "3 - 1 with weight 4\n",
      "3 - 2 with weight 2\n",
      "3 - 4 with weight 3\n",
      "4 - 0 with weight 8\n",
      "4 - 3 with weight 3\n"
     ]
    }
   ],
   "source": [
    "### Taks 2 - WRITE YOUR CODE HERE\n",
    "\n",
    "class Graph():\n",
    "    def __init__(self):\n",
    "        self.graph = {}\n",
    "        self.vertices = 0\n",
    "        \n",
    "    def add_vertex(self, vert):\n",
    "        if vert in self.graph:\n",
    "            print(\"Vertex is already present in Graph.\")\n",
    "        else:\n",
    "            self.graph[vert] = []\n",
    "            self.vertices += 1\n",
    "            \n",
    "    def add_edge(self, v1, v2, w):\n",
    "        self.edge = []\n",
    "        self.edge.append(v1)\n",
    "        self.edge.append(v2)\n",
    "        self.edge.append(w)\n",
    "        if self.graph[v1] == self.edge:\n",
    "            print(\"Edge is already present in Graph.\")\n",
    "        else:\n",
    "            self.graph[v1].append(self.edge)\n",
    "        \n",
    "    def print_graph(self):\n",
    "        for vert in self.graph:\n",
    "            for edge in self.graph[vert]:\n",
    "                print(f\"{edge[0]} - {edge[1]} with weight {edge[2]}\")\n",
    "obj1 = Graph()\n",
    "obj1.add_vertex(0)\n",
    "obj1.add_vertex(1)\n",
    "obj1.add_vertex(2)\n",
    "obj1.add_vertex(3)\n",
    "obj1.add_vertex(4)\n",
    "\n",
    "obj1.add_edge(0, 1, 3)\n",
    "obj1.add_edge(0, 3, 7)\n",
    "obj1.add_edge(0, 4, 8)\n",
    "obj1.add_edge(1, 2, 1)\n",
    "obj1.add_edge(1, 3, 4)\n",
    "obj1.add_edge(1, 0, 3)\n",
    "obj1.add_edge(2, 1, 1)\n",
    "obj1.add_edge(2, 3, 2)\n",
    "obj1.add_edge(3, 0, 7)\n",
    "obj1.add_edge(3, 1, 4)\n",
    "obj1.add_edge(3, 2, 2)\n",
    "obj1.add_edge(3, 4, 3)\n",
    "obj1.add_edge(4, 0, 8)\n",
    "obj1.add_edge(4, 3, 3)\n",
    "\n",
    "obj1.print_graph()"
   ]
  },
  {
   "cell_type": "markdown",
   "id": "78ce880a",
   "metadata": {},
   "source": [
    "<div>\n",
    "    <h1> <font color=\"red\">  Lab 03  </font></h1>\n",
    "</div>"
   ]
  },
  {
   "cell_type": "markdown",
   "id": "6a384e44",
   "metadata": {},
   "source": [
    "### TASK 01 - Weighted Graph"
   ]
  },
  {
   "cell_type": "code",
   "execution_count": 145,
   "id": "a84ad49d",
   "metadata": {},
   "outputs": [
    {
     "name": "stdout",
     "output_type": "stream",
     "text": [
      "Source\tDestination\tWeight\n",
      "  0 \t     1 \t\t  3\n",
      "  0 \t     3 \t\t  7\n",
      "  0 \t     4 \t\t  8\n",
      "  1 \t     0 \t\t  3\n",
      "  1 \t     2 \t\t  1\n",
      "  1 \t     3 \t\t  4\n",
      "  2 \t     1 \t\t  1\n",
      "  2 \t     3 \t\t  2\n",
      "  3 \t     0 \t\t  7\n",
      "  3 \t     1 \t\t  4\n",
      "  3 \t     2 \t\t  2\n",
      "  3 \t     4 \t\t  3\n",
      "  4 \t     0 \t\t  8\n",
      "  4 \t     3 \t\t  3\n",
      "\n",
      "\n",
      "GRAPH\n",
      "\n",
      "0  :  [[1, 3], [3, 7], [4, 8]]\n",
      "1  :  [[0, 3], [2, 1], [3, 4]]\n",
      "2  :  [[1, 1], [3, 2]]\n",
      "3  :  [[0, 7], [1, 4], [2, 2], [4, 3]]\n",
      "4  :  [[0, 8], [3, 3]]\n"
     ]
    }
   ],
   "source": [
    "class Graph:\n",
    "    def __init__(self):\n",
    "        self.graph = {} \n",
    "        self.vertex_no = 0\n",
    "\n",
    "    def add_vertex(self, v):\n",
    "        if v in self.graph:\n",
    "            print(\"Vertex already in graph\")\n",
    "        else:\n",
    "            self.vertex_no += 1\n",
    "            self.graph[v] = []\n",
    "\n",
    "    def add_edge(self, v1, v2, w):\n",
    "        if v1 not in self.graph:\n",
    "            print(f\"Vertex {v1} does not exist\")\n",
    "            return\n",
    "        if v2 not in self.graph:\n",
    "            print(f\"Vertex {v2} does not exist\")\n",
    "            return\n",
    "        self.graph[v1].append([v2, w])\n",
    "\n",
    "    def print_graph(self):\n",
    "        print(\"Source\\tDestination\\tWeight\")\n",
    "        for vertex in self.graph:\n",
    "            for edge in self.graph[vertex]:\n",
    "                print(f\"  {vertex} \\t     {edge[0]} \\t\\t  {edge[1]}\")\n",
    "\n",
    "                \n",
    "g = Graph()\n",
    "g.add_vertex(0)\n",
    "g.add_vertex(1)\n",
    "g.add_vertex(2)\n",
    "g.add_vertex(3)\n",
    "g.add_vertex(4)\n",
    "\n",
    "g.add_edge(0, 1, 3)\n",
    "g.add_edge(0, 3, 7)\n",
    "g.add_edge(0, 4, 8)\n",
    "g.add_edge(1, 0, 3)\n",
    "g.add_edge(1, 2, 1)\n",
    "g.add_edge(1, 3, 4)\n",
    "g.add_edge(2, 1, 1)\n",
    "g.add_edge(2, 3, 2)\n",
    "g.add_edge(3, 0, 7)\n",
    "g.add_edge(3, 1, 4)\n",
    "g.add_edge(3, 2, 2)\n",
    "g.add_edge(3, 4, 3)\n",
    "g.add_edge(4, 0, 8)\n",
    "g.add_edge(4, 3, 3)\n",
    "\n",
    "g.print_graph()\n",
    "\n",
    "print('\\n\\nGRAPH\\n')\n",
    "for i in g.graph:\n",
    "    print(i,' : ',g.graph[i])"
   ]
  },
  {
   "cell_type": "markdown",
   "id": "8f417bcb",
   "metadata": {},
   "source": [
    "### TASK 02 - Vaccuum Cleaner Agent"
   ]
  },
  {
   "cell_type": "code",
   "execution_count": 146,
   "id": "e661e3eb",
   "metadata": {},
   "outputs": [
    {
     "name": "stdout",
     "output_type": "stream",
     "text": [
      "Location : A\n",
      "Room_status:{'A': 'Dirty', 'B': 'Dirty'}\n",
      "\n",
      "\n",
      "Sucking dirt at location A\n",
      "\n",
      "Location : A\n",
      "Room_status:{'A': 'Clean', 'B': 'Dirty'}\n",
      "\n",
      "Location : B\n",
      "Room_status:{'A': 'Clean', 'B': 'Dirty'}\n",
      "\n",
      "\n",
      "Sucking dirt at location B\n",
      "\n",
      "Location : B\n",
      "Room_status:{'A': 'Clean', 'B': 'Clean'}\n",
      "\n"
     ]
    }
   ],
   "source": [
    "class vacuum_cleaner:\n",
    "    def __init__(self):\n",
    "        self.location = 'A'\n",
    "        self.rooms = {'A' : 'Dirty','B' : 'Dirty'}\n",
    "        \n",
    "    def __repr__(self):\n",
    "        return f'Location : {self.location}\\nRoom_status:{self.rooms}\\n'\n",
    "    def suck(self):\n",
    "        print(f'\\nSucking dirt at location {self.location}\\n')\n",
    "        self.rooms[self.location] = 'Clean'\n",
    "              \n",
    "    def move_left(self):\n",
    "        if self.location == 'B':\n",
    "            self.location = 'A'\n",
    "              \n",
    "    def move_right(self):\n",
    "        if self.location == 'A':\n",
    "            self.location = 'B'\n",
    "              \n",
    "    def is_dirty (self):\n",
    "        return self.rooms[self.location] == 'Dirty'\n",
    "    \n",
    "    \n",
    "def Agent(env):\n",
    "    if env.is_dirty():\n",
    "        env.suck()\n",
    "    elif env.location == 'A':\n",
    "        env.move_right()\n",
    "    else:\n",
    "        env.move_left()\n",
    "               \n",
    "agent = vacuum_cleaner()\n",
    "print(agent)\n",
    "\n",
    "for i in range (0,3):\n",
    "    Agent(agent)\n",
    "    print(agent)"
   ]
  },
  {
   "cell_type": "markdown",
   "id": "e251fbc2",
   "metadata": {},
   "source": [
    "<div>\n",
    "    <h1> <font color=\"red\">  Lab 04  </font></h1>\n",
    "</div>"
   ]
  },
  {
   "cell_type": "markdown",
   "id": "a6a28268",
   "metadata": {},
   "source": [
    "### TASK 01 - Breadth First Search"
   ]
  },
  {
   "cell_type": "code",
   "execution_count": 147,
   "id": "e9c18ca2",
   "metadata": {},
   "outputs": [
    {
     "name": "stdout",
     "output_type": "stream",
     "text": [
      "Path found: ['A', 'C', 'F', 'M']\n"
     ]
    }
   ],
   "source": [
    "from collections import deque\n",
    "\n",
    "class Node:\n",
    "    def __init__(self, state, parent = None, path_cost = 0):\n",
    "        self.state = state\n",
    "        self.parent = parent\n",
    "        self.path_cost = path_cost\n",
    "\n",
    "class Problem:\n",
    "    def __init__(self, initial, goal):\n",
    "        self.initial = initial\n",
    "        self.goal = goal\n",
    "    \n",
    "    def is_goal(self, state):\n",
    "        return state == self.goal\n",
    "\n",
    "def breadth_first_search(problem):\n",
    "    node = Node(problem.initial)\n",
    "    if problem.is_goal(node.state):\n",
    "        return node\n",
    "    frontier = deque([node])\n",
    "    reached = {problem.initial: node}\n",
    "    while frontier:\n",
    "        node = frontier.popleft()\n",
    "        for child in problem.expand(node):\n",
    "            s = child.state\n",
    "            if s not in reached:\n",
    "                reached[s] = child\n",
    "                if problem.is_goal(s):\n",
    "                    return child\n",
    "                frontier.append(child)\n",
    "    return None\n",
    "\n",
    "def reconstruct_path(node):\n",
    "    path = []\n",
    "    while node:\n",
    "        path.append(node.state)\n",
    "        node = node.parent\n",
    "    return path[::-1]\n",
    "\n",
    "class GraphProblem(Problem):\n",
    "    def __init__(self, initial, goal, graph):\n",
    "        super().__init__(initial, goal)\n",
    "        self.graph = graph\n",
    "    \n",
    "    def expand(self, node):\n",
    "        return [Node(state = child, parent = node, path_cost = node.path_cost + 1) \n",
    "                for child in self.graph.get(node.state, [])]\n",
    "\n",
    "    \n",
    "# Define the graph as an adjacency list\n",
    "graph = {'A':['B', 'C'],\n",
    "         'B':['D', 'E'],\n",
    "         'C':['F', 'G'],\n",
    "         'D':['H', 'I'],\n",
    "         'E':['J', 'K'],\n",
    "         'F':['L', 'M'],\n",
    "         'G':['N', 'O'],\n",
    "         'H':[],\n",
    "         'I':[],\n",
    "         'J':[],\n",
    "         'K':[],\n",
    "         'L':[],\n",
    "         'M':[],\n",
    "         'N':[],\n",
    "         'O':[]}\n",
    "\n",
    "# Define the problem\n",
    "initial_state = \"A\"\n",
    "goal_state = \"M\"\n",
    "problem = GraphProblem(initial_state, goal_state, graph)\n",
    "\n",
    "solution_node = breadth_first_search(problem)\n",
    "if solution_node:\n",
    "    path = reconstruct_path(solution_node)\n",
    "    print(\"Path found:\", path)\n",
    "else:\n",
    "    print(\"No path found.\")"
   ]
  },
  {
   "cell_type": "markdown",
   "id": "200dc817",
   "metadata": {},
   "source": [
    "### TASK 02 - Uniform Cost Search"
   ]
  },
  {
   "cell_type": "code",
   "execution_count": 148,
   "id": "42fbd87f",
   "metadata": {},
   "outputs": [
    {
     "name": "stdout",
     "output_type": "stream",
     "text": [
      "Path found: ['A', 'C', 'G', 'O']\n"
     ]
    }
   ],
   "source": [
    "import heapq\n",
    "from collections import deque\n",
    "\n",
    "class Node:\n",
    "    def __init__(self, state, parent = None, path_cost = 0):\n",
    "        self.state = state\n",
    "        self.parent = parent\n",
    "        self.path_cost = path_cost\n",
    "    \n",
    "    def __lt__(self, other):\n",
    "        return self.path_cost < other.path_cost\n",
    "\n",
    "class PriorityQueue:\n",
    "    def __init__(self, initial = None, key = lambda x : x):\n",
    "        self.key = key\n",
    "        self.elements = []\n",
    "        if initial:\n",
    "            for item in initial:\n",
    "                self.add(item)\n",
    "    \n",
    "    def add(self, item):\n",
    "        heapq.heappush(self.elements, (self.key(item), item))\n",
    "    \n",
    "    def pop(self):\n",
    "        return heapq.heappop(self.elements)[1]\n",
    "    \n",
    "    def __contains__(self, item):\n",
    "        return any(x == item for _, x in self.elements)\n",
    "    \n",
    "    def __len__(self):\n",
    "        return len(self.elements)\n",
    "\n",
    "class Problem:\n",
    "    def __init__(self, initial, goal):\n",
    "        self.initial = initial\n",
    "        self.goal = goal\n",
    "    \n",
    "    def is_goal(self, state):\n",
    "        return state == self.goal\n",
    "\n",
    "def best_first_search(problem, f):\n",
    "    node = Node(problem.initial)\n",
    "    frontier = PriorityQueue([node], key = f)\n",
    "    reached = {problem.initial: node}\n",
    "    while frontier:\n",
    "        node = frontier.pop()\n",
    "        if problem.is_goal(node.state):\n",
    "            return node\n",
    "        for child in problem.expand(node):\n",
    "            s = child.state\n",
    "            if s not in reached or child.path_cost < reached[s].path_cost:\n",
    "                reached[s] = child\n",
    "                frontier.add(child)\n",
    "    return None\n",
    "\n",
    "def uniform_cost_search(problem):\n",
    "    \"Search nodes with minimum path cost first.\"\n",
    "    return best_first_search(problem, f = lambda node: node.path_cost)\n",
    "\n",
    "def reconstruct_path(node):\n",
    "    path = []\n",
    "    while node:\n",
    "        path.append(node.state)\n",
    "        node = node.parent\n",
    "    return path[::-1]\n",
    "\n",
    "class GraphProblem(Problem):\n",
    "    def __init__(self, initial, goal, graph):\n",
    "        super().__init__(initial, goal)\n",
    "        self.graph = graph\n",
    "    \n",
    "    def expand(self, node):\n",
    "        return [Node(state=child, parent=node, path_cost=node.path_cost + 1) \n",
    "                for child in self.graph.get(node.state, [])]\n",
    "\n",
    "\n",
    "# Define the graph as an adjacency list\n",
    "graph = {'A':['B', 'C'],\n",
    "         'B':['D', 'E'],\n",
    "         'C':['F', 'G'],\n",
    "         'D':['H', 'I'],\n",
    "         'E':['J', 'K'],\n",
    "         'F':['L', 'M'],\n",
    "         'G':['N', 'O'],\n",
    "         'H':[],\n",
    "         'I':[],\n",
    "         'J':[],\n",
    "         'K':[],\n",
    "         'L':[],\n",
    "         'M':[],\n",
    "         'N':[],\n",
    "         'O':[]}\n",
    "\n",
    "# Define the problem\n",
    "initial_state = \"A\"\n",
    "goal_state = \"O\"\n",
    "problem = GraphProblem(initial_state, goal_state, graph)\n",
    "\n",
    "# Perform uniform-cost search\n",
    "solution_node = uniform_cost_search(problem)\n",
    "if solution_node:\n",
    "    path = reconstruct_path(solution_node)\n",
    "    print(\"Path found:\", path)\n",
    "else:\n",
    "    print(\"No path found.\")"
   ]
  },
  {
   "cell_type": "markdown",
   "id": "d92b2f9e",
   "metadata": {},
   "source": [
    "### TASK 03 - Depth First Search"
   ]
  },
  {
   "cell_type": "code",
   "execution_count": 149,
   "id": "215ec327",
   "metadata": {},
   "outputs": [
    {
     "name": "stdout",
     "output_type": "stream",
     "text": [
      "Path found: ['A', 'B', 'D', 'H']\n"
     ]
    }
   ],
   "source": [
    "import heapq\n",
    "from collections import deque\n",
    "\n",
    "class Node:\n",
    "    def __init__(self, state, parent = None, path_cost = 0):\n",
    "        self.state = state\n",
    "        self.parent = parent\n",
    "        self.path_cost = path_cost\n",
    "    \n",
    "    def __lt__(self, other):\n",
    "        return self.path_cost < other.path_cost\n",
    "    \n",
    "    def depth(self):\n",
    "        depth = 0\n",
    "        node = self\n",
    "        while node.parent is not None:\n",
    "            node = node.parent\n",
    "            depth += 1\n",
    "        return depth\n",
    "\n",
    "class PriorityQueue:\n",
    "    def __init__(self, initial = None, key = lambda x: x):\n",
    "        self.key = key\n",
    "        self.elements = []\n",
    "        if initial:\n",
    "            for item in initial:\n",
    "                self.add(item)\n",
    "    \n",
    "    def add(self, item):\n",
    "        heapq.heappush(self.elements, (self.key(item), item))\n",
    "    \n",
    "    def pop(self):\n",
    "        return heapq.heappop(self.elements)[1]\n",
    "    \n",
    "    def __contains__(self, item):\n",
    "        return any(x == item for _, x in self.elements)\n",
    "    \n",
    "    def __len__(self):\n",
    "        return len(self.elements)\n",
    "\n",
    "class Problem:\n",
    "    def __init__(self, initial, goal):\n",
    "        self.initial = initial\n",
    "        self.goal = goal\n",
    "    \n",
    "    def is_goal(self, state):\n",
    "        return state == self.goal\n",
    "\n",
    "def best_first_search(problem, f):\n",
    "    node = Node(problem.initial)\n",
    "    frontier = PriorityQueue([node], key=f)\n",
    "    reached = {problem.initial: node}\n",
    "    while frontier:\n",
    "        node = frontier.pop()\n",
    "        if problem.is_goal(node.state):\n",
    "            return node\n",
    "        for child in problem.expand(node):\n",
    "            s = child.state\n",
    "            if s not in reached or child.path_cost < reached[s].path_cost:\n",
    "                reached[s] = child\n",
    "                frontier.add(child)\n",
    "    return None\n",
    "\n",
    "def depth_first_search(problem):\n",
    "    \"Search deepest nodes in the search tree first; using best-first.\"\n",
    "    return best_first_search(problem, f = lambda n: -n.depth())\n",
    "\n",
    "def reconstruct_path(node):\n",
    "    path = []\n",
    "    while node:\n",
    "        path.append(node.state)\n",
    "        node = node.parent\n",
    "    return path[::-1]\n",
    "\n",
    "class GraphProblem(Problem):\n",
    "    def __init__(self, initial, goal, graph):\n",
    "        super().__init__(initial, goal)\n",
    "        self.graph = graph\n",
    "    \n",
    "    def expand(self, node):\n",
    "        return [Node(state=child, parent=node, path_cost=node.path_cost + 1) \n",
    "                for child in self.graph.get(node.state, [])]\n",
    "    \n",
    "# Define the graph as an adjacency list\n",
    "graph = {'A':['B', 'C'],\n",
    "         'B':['D', 'E'],\n",
    "         'C':['F', 'G'],\n",
    "         'D':['H', 'I'],\n",
    "         'E':['J', 'K'],\n",
    "         'F':['L', 'M'],\n",
    "         'G':['N', 'O'],\n",
    "         'H':[],\n",
    "         'I':[],\n",
    "         'J':[],\n",
    "         'K':[],\n",
    "         'L':[],\n",
    "         'M':[],\n",
    "         'N':[],\n",
    "         'O':[]}\n",
    "\n",
    "# Define the problem\n",
    "initial_state = \"A\"\n",
    "goal_state = \"H\"\n",
    "problem = GraphProblem(initial_state, goal_state, graph)\n",
    "\n",
    "# Perform depth-first search\n",
    "solution_node = depth_first_search(problem)\n",
    "if solution_node:\n",
    "    path = reconstruct_path(solution_node)\n",
    "    print(\"Path found:\", path)\n",
    "else:\n",
    "    print(\"No path found.\")"
   ]
  },
  {
   "cell_type": "markdown",
   "id": "cbd39e44",
   "metadata": {},
   "source": [
    "### TASK 04 - Depth Limited Search"
   ]
  },
  {
   "cell_type": "code",
   "execution_count": 150,
   "id": "303946bc",
   "metadata": {},
   "outputs": [
    {
     "name": "stdout",
     "output_type": "stream",
     "text": [
      "When limit = 2\n",
      "Cutoff occurred. No solution found within depth limit.\n",
      "\n",
      "When limit = 5\n",
      "Path found: ['A', 'C', 'G', 'O']\n"
     ]
    }
   ],
   "source": [
    "class Node:\n",
    "    def __init__(self, state, parent=None, path_cost=0):\n",
    "        self.state = state\n",
    "        self.parent = parent\n",
    "        self.path_cost = path_cost\n",
    "    \n",
    "    def __lt__(self, other):\n",
    "        return self.path_cost < other.path_cost\n",
    "    \n",
    "    def depth(self):\n",
    "        depth = 0\n",
    "        node = self\n",
    "        while node.parent is not None:\n",
    "            node = node.parent\n",
    "            depth += 1\n",
    "        return depth\n",
    "\n",
    "class Problem:\n",
    "    def __init__(self, initial, goal):\n",
    "        self.initial = initial\n",
    "        self.goal = goal\n",
    "    \n",
    "    def is_goal(self, state):\n",
    "        return state == self.goal\n",
    "    \n",
    "    def expand(self, node):\n",
    "        \"\"\"This should be implemented specifically for the problem.\n",
    "        Returns a list of child nodes from the given node.\"\"\"\n",
    "        raise NotImplementedError\n",
    "\n",
    "def depth_limited_search(problem, limit=10):\n",
    "    def recursive_dls(node, problem, limit):\n",
    "        if problem.is_goal(node.state):\n",
    "            return node\n",
    "        elif limit == 0:\n",
    "            return 'cutoff'\n",
    "        else:\n",
    "            cutoff_occurred = False\n",
    "            for child in problem.expand(node):\n",
    "                result = recursive_dls(child, problem, limit - 1)\n",
    "                if result == 'cutoff':\n",
    "                    cutoff_occurred = True\n",
    "                elif result is not None:\n",
    "                    return result\n",
    "            return 'cutoff' if cutoff_occurred else None\n",
    "    \n",
    "    root = Node(problem.initial)\n",
    "    return recursive_dls(root, problem, limit)\n",
    "\n",
    "def reconstruct_path(node):\n",
    "    path = []\n",
    "    while node:\n",
    "        path.append(node.state)\n",
    "        node = node.parent\n",
    "    return path[::-1]\n",
    "\n",
    "class GraphProblem(Problem):\n",
    "    def __init__(self, initial, goal, graph):\n",
    "        super().__init__(initial, goal)\n",
    "        self.graph = graph\n",
    "    \n",
    "    def expand(self, node):\n",
    "        return [Node(state=child, parent=node, path_cost=node.path_cost + 1) \n",
    "                for child in self.graph.get(node.state, [])]\n",
    "\n",
    "# Define the graph as an adjacency list\n",
    "graph = {'A':['B', 'C'],\n",
    "         'B':['D', 'E'],\n",
    "         'C':['F', 'G'],\n",
    "         'D':['H', 'I'],\n",
    "         'E':['J', 'K'],\n",
    "         'F':['L', 'M'],\n",
    "         'G':['N', 'O'],\n",
    "         'H':[],\n",
    "         'I':[],\n",
    "         'J':[],\n",
    "         'K':[],\n",
    "         'L':[],\n",
    "         'M':[],\n",
    "         'N':[],\n",
    "         'O':[]}\n",
    "\n",
    "# Define the problem\n",
    "initial_state = \"A\"\n",
    "goal_state = \"O\"\n",
    "problem = GraphProblem(initial_state, goal_state, graph)\n",
    "\n",
    "# Perform depth-limited search\n",
    "limit = 2\n",
    "solution_node = depth_limited_search(problem, limit)\n",
    "print(\"When limit = 2\")\n",
    "if solution_node and solution_node != 'cutoff':\n",
    "    path = reconstruct_path(solution_node)\n",
    "    print(\"Path found:\", path)\n",
    "elif solution_node == 'cutoff':\n",
    "    print(\"Cutoff occurred. No solution found within depth limit.\")\n",
    "else:\n",
    "    print(\"No path found.\")\n",
    "    \n",
    "limit = 5\n",
    "solution_node = depth_limited_search(problem, limit)\n",
    "print(\"\\nWhen limit = 5\")\n",
    "if solution_node and solution_node != 'cutoff':\n",
    "    path = reconstruct_path(solution_node)\n",
    "    print(\"Path found:\", path)\n",
    "elif solution_node == 'cutoff':\n",
    "    print(\"Cutoff occurred. No solution found within depth limit.\")\n",
    "else:\n",
    "    print(\"No path found.\")"
   ]
  },
  {
   "cell_type": "markdown",
   "id": "935e7c8e",
   "metadata": {},
   "source": [
    "### TASK 05 - Iterative Deepening Search"
   ]
  },
  {
   "cell_type": "code",
   "execution_count": 151,
   "id": "6edb69a3",
   "metadata": {},
   "outputs": [
    {
     "name": "stdout",
     "output_type": "stream",
     "text": [
      "Solution path: ['A', 'C', 'G', 'O']\n"
     ]
    }
   ],
   "source": [
    "import sys\n",
    "\n",
    "class Node:\n",
    "    \"\"\"A node in a search tree. Contains the state, parent, action, and path cost.\"\"\"\n",
    "    def __init__(self, state, parent=None, action=None, path_cost=0):\n",
    "        self.state = state\n",
    "        self.parent = parent\n",
    "        self.action = action\n",
    "        self.path_cost = path_cost\n",
    "\n",
    "    def __repr__(self):\n",
    "        return f\"<Node {self.state}>\"\n",
    "\n",
    "    def __eq__(self, other):\n",
    "        return isinstance(other, Node) and self.state == other.state\n",
    "\n",
    "    def __hash__(self):\n",
    "        return hash(self.state)\n",
    "\n",
    "class Problem:\n",
    "    def __init__(self, initial, goal):\n",
    "        self.initial = initial\n",
    "        self.goal = goal\n",
    "\n",
    "    def actions(self, state):\n",
    "        raise NotImplementedError\n",
    "\n",
    "    def result(self, state, action):\n",
    "        raise NotImplementedError\n",
    "\n",
    "    def goal_test(self, state):\n",
    "        return state == self.goal\n",
    "\n",
    "    def path_cost(self, c, state1, action, state2):\n",
    "        raise NotImplementedError\n",
    "\n",
    "class GraphProblem(Problem):\n",
    "    \"\"\"A problem to find a path between locations in a graph.\"\"\"\n",
    "    def __init__(self, initial_state, goal_state, graph):\n",
    "        super().__init__(initial_state, goal_state)\n",
    "        self.graph = graph\n",
    "\n",
    "    def actions(self, state):\n",
    "        \"\"\"The places neighboring `state`.\"\"\"\n",
    "        return self.graph[state]\n",
    "\n",
    "    def result(self, state, action):\n",
    "        \"\"\"Go to the `action` place, if the graph says that is possible.\"\"\"\n",
    "        return action\n",
    "\n",
    "    def path_cost(self, c, state1, action, state2):\n",
    "        \"\"\"The cost to go from state1 to state2 is always 1.\"\"\"\n",
    "        return c + 1\n",
    "\n",
    "def depth_limited_search(problem, limit):\n",
    "    \"\"\"Perform depth-first search with a specified depth limit.\"\"\"\n",
    "    def recursive_dls(node, problem, limit):\n",
    "        if problem.goal_test(node.state):\n",
    "            return node\n",
    "        elif limit == 0:\n",
    "            return 'cutoff'\n",
    "        else:\n",
    "            cutoff_occurred = False\n",
    "            for action in problem.actions(node.state):\n",
    "                child = Node(problem.result(node.state, action), node, action, node.path_cost + problem.path_cost(node.path_cost, node.state, action, problem.result(node.state, action)))\n",
    "                result = recursive_dls(child, problem, limit - 1)\n",
    "                if result == 'cutoff':\n",
    "                    cutoff_occurred = True\n",
    "                elif result is not failure:\n",
    "                    return result\n",
    "            return 'cutoff' if cutoff_occurred else 'failure'\n",
    "\n",
    "    return recursive_dls(Node(problem.initial), problem, limit)\n",
    "\n",
    "def iterative_deepening_search(problem):\n",
    "    \"\"\"Perform depth-limited search with increasing depth limits.\"\"\"\n",
    "    for limit in range(1, sys.maxsize):\n",
    "        result = depth_limited_search(problem, limit)\n",
    "        if result != 'cutoff':\n",
    "            return result\n",
    "    return failure\n",
    "\n",
    "# Define the graph as an adjacency list\n",
    "graph = {'A': ['B', 'C'],\n",
    "         'B': ['D', 'E'],\n",
    "         'C': ['F', 'G'],\n",
    "         'D': ['H', 'I'],\n",
    "         'E': ['J', 'K'],\n",
    "         'F': ['L', 'M'],\n",
    "         'G': ['N', 'O'],\n",
    "         'H': [],\n",
    "         'I': [],\n",
    "         'J': [],\n",
    "         'K': [],\n",
    "         'L': [],\n",
    "         'M': [],\n",
    "         'N': [],\n",
    "         'O': []}\n",
    "\n",
    "# Define the problem\n",
    "initial_state = \"A\"\n",
    "goal_state = \"O\"\n",
    "problem = GraphProblem(initial_state, goal_state, graph)\n",
    "\n",
    "# Perform iterative deepening search\n",
    "solution = iterative_deepening_search(problem)\n",
    "\n",
    "# Print solution path\n",
    "if solution and solution != failure:\n",
    "    path = []\n",
    "    node = solution\n",
    "    while node:\n",
    "        path.append(node.state)\n",
    "        node = node.parent\n",
    "    path.reverse()\n",
    "    print(f\"Solution path: {path}\")\n",
    "else:\n",
    "    print(\"No solution found.\")"
   ]
  },
  {
   "cell_type": "markdown",
   "id": "66e3b7cc",
   "metadata": {},
   "source": [
    "<div>\n",
    "    <h1> <font color=\"red\">  Lab 05  </font></h1>\n",
    "</div>"
   ]
  },
  {
   "cell_type": "markdown",
   "id": "716364ab",
   "metadata": {},
   "source": [
    "### TASK 01 - Greedy Best First Search"
   ]
  },
  {
   "cell_type": "code",
   "execution_count": 152,
   "id": "5b2b1cba",
   "metadata": {},
   "outputs": [
    {
     "name": "stdout",
     "output_type": "stream",
     "text": [
      "Solution path: ['A', 'S', 'F', 'B']\n"
     ]
    }
   ],
   "source": [
    "import heapq\n",
    "import math\n",
    "\n",
    "class Node:\n",
    "    \"\"\"A node in a search tree. Contains the state, parent, action, and path cost.\"\"\"\n",
    "    def __init__(self, state, parent=None, action=None, path_cost=0):\n",
    "        self.state = state\n",
    "        self.parent = parent\n",
    "        self.action = action\n",
    "        self.path_cost = path_cost\n",
    "\n",
    "    def __repr__(self):\n",
    "        return f\"<Node {self.state}>\"\n",
    "\n",
    "    def __eq__(self, other):\n",
    "        return isinstance(other, Node) and self.state == other.state\n",
    "\n",
    "    def __hash__(self):\n",
    "        return hash(self.state)\n",
    "\n",
    "    def __lt__(self, other):\n",
    "        \"\"\"Compare nodes based on the heuristic function.\"\"\"\n",
    "        return self.h < other.h\n",
    "\n",
    "class RouteProblem:\n",
    "    \"\"\"A problem to find a route between locations on a `Map`.\n",
    "    Create a problem with RouteProblem(start, goal, map=Map(...)}).\n",
    "    States are the vertexes in the Map graph; actions are destination states.\"\"\"\n",
    "    \n",
    "    def __init__(self, initial_state, goal_state, map):\n",
    "        self.initial_state = initial_state\n",
    "        self.goal_state = goal_state\n",
    "        self.map = map\n",
    "\n",
    "    def actions(self, state):\n",
    "        \"\"\"The places neighboring `state`.\"\"\"\n",
    "        return self.map.neighbors[state]\n",
    "\n",
    "    def result(self, state, action):\n",
    "        \"\"\"Go to the `action` place, if the map says that is possible.\"\"\"\n",
    "        return action if action in self.map.neighbors[state] else state\n",
    "\n",
    "    def goal_test(self, state):\n",
    "        return state == self.goal_state\n",
    "\n",
    "    def path_cost(self, c, state1, action, state2):\n",
    "        \"\"\"The distance (cost) to go from state1 to state2.\"\"\"\n",
    "        return c + self.map.distances[(state1, state2)]\n",
    "\n",
    "    def h(self, node):\n",
    "        \"Straight-line distance between state and the goal.\"\n",
    "        locs = self.map.locations\n",
    "        return straight_line_distance(locs[node.state], locs[self.goal_state])\n",
    "\n",
    "def straight_line_distance(loc1, loc2):\n",
    "    \"\"\"Compute the Euclidean distance between two locations.\"\"\"\n",
    "    (x1, y1) = loc1\n",
    "    (x2, y2) = loc2\n",
    "    return math.sqrt((x1 - x2) ** 2 + (y1 - y2) ** 2)\n",
    "\n",
    "def greedy_bfs(problem):\n",
    "    \"\"\"Search nodes with minimum h(n).\"\"\"\n",
    "    frontier = [Node(problem.initial_state)]\n",
    "    explored = set()\n",
    "\n",
    "    while frontier:\n",
    "        node = heapq.heappop(frontier)\n",
    "        if problem.goal_test(node.state):\n",
    "            return node\n",
    "        if node.state not in explored:\n",
    "            explored.add(node.state)\n",
    "            for action in problem.actions(node.state):\n",
    "                child = Node(problem.result(node.state, action), node, action, node.path_cost + problem.path_cost(node.path_cost, node.state, action, problem.result(node.state, action)))\n",
    "                child.h = problem.h(child)\n",
    "                heapq.heappush(frontier, child)\n",
    "    return None\n",
    "\n",
    "# Usage example\n",
    "romania = Map(\n",
    "    # road distances in miles,\n",
    "    {('O', 'Z'):  71, ('O', 'S'): 151, ('A', 'Z'): 75, ('A', 'S'): 140, ('A', 'T'): 118, \n",
    "     ('L', 'T'): 111, ('L', 'M'):  70, ('D', 'M'): 75, ('C', 'D'): 120, ('C', 'R'): 146, \n",
    "     ('C', 'P'): 138, ('R', 'S'):  80, ('F', 'S'): 99, ('B', 'F'): 211, ('B', 'P'): 101, \n",
    "     ('B', 'G'):  90, ('B', 'U'):  85, ('H', 'U'): 98, ('E', 'H'):  86, ('U', 'V'): 142, \n",
    "     ('I', 'V'):  92, ('I', 'N'):  87, ('P', 'R'): 97},\n",
    "     # coordinate plane to visualize the layout of nodes.\n",
    "    {'A': ( 76, 497), 'B': (400, 327), 'C': (246, 285), 'D': (160, 296), 'E': (558, 294), \n",
    "     'F': (285, 460), 'G': (368, 257), 'H': (548, 355), 'I': (488, 535), 'L': (162, 379),\n",
    "     'M': (160, 343), 'N': (407, 561), 'O': (117, 580), 'P': (311, 372), 'R': (227, 412),\n",
    "     'S': (187, 463), 'T': ( 83, 414), 'U': (471, 363), 'V': (535, 473), 'Z': (92, 539)})\n",
    "\n",
    "problem = RouteProblem('A', 'B', map=romania)\n",
    "solution = greedy_bfs(problem)\n",
    "\n",
    "# Print solution path\n",
    "if solution:\n",
    "    path = []\n",
    "    node = solution\n",
    "    while node:\n",
    "        path.append(node.state)\n",
    "        node = node.parent\n",
    "    path.reverse()\n",
    "    print(f\"Solution path: {path}\")\n",
    "else:\n",
    "    print(\"No solution found.\")"
   ]
  },
  {
   "cell_type": "markdown",
   "id": "f07dae57",
   "metadata": {},
   "source": [
    "### TASK 02 - A Star Search"
   ]
  },
  {
   "cell_type": "code",
   "execution_count": 153,
   "id": "4d0c994d",
   "metadata": {},
   "outputs": [
    {
     "name": "stdout",
     "output_type": "stream",
     "text": [
      "Solution path: ['A', 'S', 'R', 'P', 'B']\n"
     ]
    }
   ],
   "source": [
    "import heapq\n",
    "import math\n",
    "\n",
    "class Node:\n",
    "    \"\"\"A node in a search tree. Contains the state, parent, action, and path cost.\"\"\"\n",
    "    def __init__(self, state, parent=None, action=None, path_cost=0, heuristic=0):\n",
    "        self.state = state\n",
    "        self.parent = parent\n",
    "        self.action = action\n",
    "        self.path_cost = path_cost\n",
    "        self.heuristic = heuristic\n",
    "\n",
    "    def __repr__(self):\n",
    "        return f\"<Node {self.state}>\"\n",
    "\n",
    "    def __eq__(self, other):\n",
    "        return isinstance(other, Node) and self.state == other.state\n",
    "\n",
    "    def __hash__(self):\n",
    "        return hash(self.state)\n",
    "\n",
    "    def __lt__(self, other):\n",
    "        \"\"\"Compare nodes based on the f-value (g(n) + h(n)).\"\"\"\n",
    "        return self.path_cost + self.heuristic < other.path_cost + other.heuristic\n",
    "\n",
    "class RouteProblem:\n",
    "    \"\"\"A problem to find a route between locations on a `Map`.\n",
    "    Create a problem with RouteProblem(start, goal, map=Map(...)}).\n",
    "    States are the vertexes in the Map graph; actions are destination states.\"\"\"\n",
    "    \n",
    "    def __init__(self, initial_state, goal_state, map):\n",
    "        self.initial_state = initial_state\n",
    "        self.goal_state = goal_state\n",
    "        self.map = map\n",
    "\n",
    "    def actions(self, state):\n",
    "        \"\"\"The places neighboring `state`.\"\"\"\n",
    "        return self.map.neighbors[state]\n",
    "\n",
    "    def result(self, state, action):\n",
    "        \"\"\"Go to the `action` place, if the map says that is possible.\"\"\"\n",
    "        return action if action in self.map.neighbors[state] else state\n",
    "\n",
    "    def goal_test(self, state):\n",
    "        return state == self.goal_state\n",
    "\n",
    "    def path_cost(self, c, state1, action, state2):\n",
    "        \"\"\"The distance (cost) to go from state1 to state2.\"\"\"\n",
    "        return c + self.map.distances[(state1, state2)]\n",
    "\n",
    "    def h(self, node):\n",
    "        \"Straight-line distance between state and the goal.\"\n",
    "        locs = self.map.locations\n",
    "        return straight_line_distance(locs[node.state], locs[self.goal_state])\n",
    "\n",
    "def straight_line_distance(loc1, loc2):\n",
    "    \"\"\"Compute the Euclidean distance between two locations.\"\"\"\n",
    "    (x1, y1) = loc1\n",
    "    (x2, y2) = loc2\n",
    "    return math.sqrt((x1 - x2) ** 2 + (y1 - y2) ** 2)\n",
    "\n",
    "def astar_search(problem, h=None):\n",
    "    \"\"\"Search nodes with minimum f(n) = g(n) + h(n).\"\"\"\n",
    "    h = h or problem.h\n",
    "    frontier = [Node(problem.initial_state, heuristic=h(Node(problem.initial_state)))]\n",
    "    explored = set()\n",
    "\n",
    "    while frontier:\n",
    "        node = heapq.heappop(frontier)\n",
    "        if problem.goal_test(node.state):\n",
    "            return node\n",
    "        if node.state not in explored:\n",
    "            explored.add(node.state)\n",
    "            for action in problem.actions(node.state):\n",
    "                child = Node(\n",
    "                    problem.result(node.state, action),\n",
    "                    node,\n",
    "                    action,\n",
    "                    problem.path_cost(node.path_cost, node.state, action, problem.result(node.state, action)),\n",
    "                    h(Node(problem.result(node.state, action)))\n",
    "                )\n",
    "                heapq.heappush(frontier, child)\n",
    "    return None\n",
    "\n",
    "def path_states(node):\n",
    "    \"The sequence of states to get to this node.\"\n",
    "    if node in (cutoff, failure, None): \n",
    "        return []\n",
    "    return path_states(node.parent) + [node.state]\n",
    "\n",
    "# Usage example\n",
    "romania = Map(\n",
    "    # road distances in miles,\n",
    "    {('O', 'Z'):  71, ('O', 'S'): 151, ('A', 'Z'): 75, ('A', 'S'): 140, ('A', 'T'): 118, \n",
    "     ('L', 'T'): 111, ('L', 'M'):  70, ('D', 'M'): 75, ('C', 'D'): 120, ('C', 'R'): 146, \n",
    "     ('C', 'P'): 138, ('R', 'S'):  80, ('F', 'S'): 99, ('B', 'F'): 211, ('B', 'P'): 101, \n",
    "     ('B', 'G'):  90, ('B', 'U'):  85, ('H', 'U'): 98, ('E', 'H'):  86, ('U', 'V'): 142, \n",
    "     ('I', 'V'):  92, ('I', 'N'):  87, ('P', 'R'): 97},\n",
    "     # coordinate plane to visualize the layout of nodes.\n",
    "    {'A': ( 76, 497), 'B': (400, 327), 'C': (246, 285), 'D': (160, 296), 'E': (558, 294), \n",
    "     'F': (285, 460), 'G': (368, 257), 'H': (548, 355), 'I': (488, 535), 'L': (162, 379),\n",
    "     'M': (160, 343), 'N': (407, 561), 'O': (117, 580), 'P': (311, 372), 'R': (227, 412),\n",
    "     'S': (187, 463), 'T': ( 83, 414), 'U': (471, 363), 'V': (535, 473), 'Z': (92, 539)})\n",
    "\n",
    "problem = RouteProblem('A', 'B', map=romania)\n",
    "solution = astar_search(problem)\n",
    "\n",
    "# Print solution path\n",
    "if solution:\n",
    "    path = path_states(solution)\n",
    "    print(f\"Solution path: {path}\")\n",
    "else:\n",
    "    print(\"No solution found.\")"
   ]
  },
  {
   "cell_type": "markdown",
   "id": "931880ed",
   "metadata": {},
   "source": [
    "<div>\n",
    "    <h1> <font color=\"red\">  Lab 06  </font></h1>\n",
    "</div>"
   ]
  },
  {
   "cell_type": "markdown",
   "id": "26e3b11e",
   "metadata": {},
   "source": [
    "### TASK 01 - Hill Climbing"
   ]
  },
  {
   "cell_type": "code",
   "execution_count": 154,
   "id": "ba1c17da",
   "metadata": {},
   "outputs": [
    {
     "name": "stdout",
     "output_type": "stream",
     "text": [
      "The number of restarts needed is: 3\n"
     ]
    }
   ],
   "source": [
    "class Problem:\n",
    "    def __init__(self, initial, goal, neighbors, value):\n",
    "        self.INITIAL = initial\n",
    "        self.GOAL = goal\n",
    "        self.neighbors = neighbors\n",
    "        self.value = value\n",
    "        \n",
    "#Time complexity O(b)\n",
    "def find_best_neighbor(current, problem):\n",
    "    best_neighbor = None\n",
    "    best_value = float('-inf')\n",
    "    for neighbor in problem.neighbors(current):\n",
    "        neighbor_value = problem.value(neighbor)\n",
    "        if neighbor_value > best_value:\n",
    "            best_neighbor = neighbor\n",
    "            best_value = neighbor_value\n",
    "    return best_neighbor\n",
    "\n",
    "#Time complexity O(b^d)\n",
    "def hill_climbing(problem):\n",
    "    current = problem.INITIAL\n",
    "    path = [current]\n",
    "    while current != problem.GOAL:\n",
    "        best_neighbor = find_best_neighbor(current, problem)\n",
    "        if best_neighbor is None or problem.value(best_neighbor) <= problem.value(current):\n",
    "            return path\n",
    "        current = best_neighbor\n",
    "        path.append(current)\n",
    "    return path\n",
    "\n",
    "\n",
    "def neighbors(state):\n",
    "    if state == 'A':\n",
    "        return ['B', 'C', 'D']\n",
    "    elif state == 'B':\n",
    "        return ['E']\n",
    "    elif state == 'C':\n",
    "        return ['E']\n",
    "    elif state == 'D':\n",
    "        return ['E']\n",
    "    elif state == 'E':\n",
    "        return ['Y']\n",
    "    elif state == 'Y':\n",
    "        return []\n",
    "\n",
    "def value(state):\n",
    "    if state == 'A':\n",
    "        return 1\n",
    "    elif state == 'B':\n",
    "        return 2\n",
    "    elif state == 'C':\n",
    "        return 3\n",
    "    elif state == 'D':\n",
    "        return 4\n",
    "    elif state == 'E':\n",
    "        return 5\n",
    "    elif state == 'Y':\n",
    "        return 6\n",
    "\n",
    "problem = Problem('A', 'Y', neighbors, value)\n",
    "path = hill_climbing(problem)\n",
    "print(f\"The number of restarts needed is: {len(path) - 1}\")"
   ]
  },
  {
   "cell_type": "markdown",
   "id": "193533be",
   "metadata": {},
   "source": [
    "### TASK 03 - Minimax Algorithm"
   ]
  },
  {
   "cell_type": "code",
   "execution_count": 173,
   "id": "78601f78",
   "metadata": {},
   "outputs": [
    {
     "name": "stdout",
     "output_type": "stream",
     "text": [
      "The best move is: a1\n"
     ]
    }
   ],
   "source": [
    "import numpy as np\n",
    "\n",
    "class Game:\n",
    "    def actions(self, state):\n",
    "        raise NotImplementedError\n",
    "\n",
    "    def result(self, state, move):\n",
    "        raise NotImplementedError\n",
    "\n",
    "    def utility(self, state, player):\n",
    "        raise NotImplementedError\n",
    "\n",
    "    def terminal_test(self, state):\n",
    "        raise NotImplementedError\n",
    "\n",
    "    def to_move(self, state):\n",
    "        raise NotImplementedError\n",
    "\n",
    "def alpha_beta_search(game, state):\n",
    "   \n",
    "    player = game.to_move(state)\n",
    "\n",
    "    def max_value(state, alpha, beta):\n",
    "        if game.terminal_test(state):\n",
    "            return game.utility(state, player)\n",
    "        v = -np.inf\n",
    "        for a in game.actions(state):\n",
    "            v = max(v, min_value(game.result(state, a), alpha, beta))\n",
    "            if v >= beta:\n",
    "                return v\n",
    "            alpha = max(alpha, v)\n",
    "        return v\n",
    "\n",
    "    def min_value(state, alpha, beta):\n",
    "        if game.terminal_test(state):\n",
    "            return game.utility(state, player)\n",
    "        v = np.inf\n",
    "        for a in game.actions(state):\n",
    "            v = min(v, max_value(game.result(state, a), alpha, beta))\n",
    "            if v <= alpha:\n",
    "                return v\n",
    "            beta = min(beta, v)\n",
    "        return v\n",
    "\n",
    "    # Body of alpha_beta_search:\n",
    "    best_score = -np.inf\n",
    "    beta = np.inf\n",
    "    best_action = None\n",
    "    for a in game.actions(state):\n",
    "        v = min_value(game.result(state, a), best_score, beta)\n",
    "        if v > best_score:\n",
    "            best_score = v\n",
    "            best_action = a\n",
    "    return best_action\n",
    "\n",
    "# Example usage\n",
    "class MiniMaxGame(Game):\n",
    "  \n",
    "    succs = dict(A=dict(a1='B', a2='C', a3='D'),\n",
    "                 B=dict(b1='B1', b2='B2', b3='B3'),\n",
    "                 C=dict(c1='C1', c2='C2', c3='C3'),\n",
    "                 D=dict(d1='D1', d2='D2', d3='D3'))\n",
    "    utils = dict(B1=3, B2=12, B3=8, C1=2, C2=4, C3=6, D1=14, D2=5, D3=2)\n",
    "    initial = 'A'\n",
    "\n",
    "    def actions(self, state):\n",
    "        return list(self.succs.get(state, {}).keys())\n",
    "\n",
    "    def result(self, state, move):\n",
    "        return self.succs[state][move]\n",
    "\n",
    "    def utility(self, state, player):\n",
    "        if state in self.utils:\n",
    "            return self.utils[state] if player == 'MAX' else -self.utils[state]\n",
    "        return 0\n",
    "\n",
    "    def terminal_test(self, state):\n",
    "        return state not in ('A', 'B', 'C', 'D')\n",
    "\n",
    "    def to_move(self, state):\n",
    "        return 'MIN' if state in 'BCD' else 'MAX'\n",
    "\n",
    "# Example usage of alpha-beta pruning\n",
    "game = MiniMaxGame()\n",
    "state = game.initial\n",
    "best_move = alpha_beta_search(game, state)\n",
    "\n",
    "print(f\"The best move is: {best_move}\")"
   ]
  },
  {
   "cell_type": "markdown",
   "id": "f7c2a707",
   "metadata": {},
   "source": [
    "<div>\n",
    "    <h1> <font color=\"red\">  Lab 07  </font></h1>\n",
    "</div>"
   ]
  },
  {
   "cell_type": "code",
   "execution_count": null,
   "id": "8edcc944",
   "metadata": {},
   "outputs": [],
   "source": [
    "# Makeup Retake"
   ]
  },
  {
   "cell_type": "markdown",
   "id": "8f7b978d",
   "metadata": {},
   "source": [
    "<div>\n",
    "    <h1> <font color=\"red\">  Lab 08  </font></h1>\n",
    "</div>"
   ]
  },
  {
   "cell_type": "markdown",
   "id": "3385ed89",
   "metadata": {},
   "source": [
    "### Task 1: Graph/Map Coloring Problem"
   ]
  },
  {
   "cell_type": "code",
   "execution_count": 155,
   "id": "fb041dbe",
   "metadata": {},
   "outputs": [
    {
     "name": "stdout",
     "output_type": "stream",
     "text": [
      "WA \t:      Red\n",
      "NT \t:      Green\n",
      "Q \t:      Red\n",
      "NSW \t:      Green\n",
      "V \t:      Red\n",
      "SA \t:      Blue\n",
      "T \t:      Red\n"
     ]
    }
   ],
   "source": [
    "# CODE HERE\n",
    "Graph={\n",
    "      \"WA\":[\"NT\",\"SA\"],      \n",
    "      \"NT\":[\"WA\",\"SA\",\"Q\"],\n",
    "      \"Q\":[\"NT\",\"NSW\",\"SA\"],\n",
    "      \"NSW\":[\"Q\",\"V\",\"SA\"],\n",
    "      \"V\":[\"NSW\",\"SA\"],\n",
    "      \"SA\":[\"WA\",\"NT\",\"Q\",\"NSW\",\"V\"],\n",
    "      \"T\":[]\n",
    "      }\n",
    "\n",
    "Colors_Domain=[\"Red\",\"Green\",\"Blue\"]\n",
    "ColorsAssigned ={\"WA\":None,\"NT\":None,\"Q\":None,\"NSW\":None,\"V\":None,\"SA\":None,\"T\":None}\n",
    "\n",
    "for region in Graph.keys():\n",
    "    if ColorsAssigned[region]==None:\n",
    "        for color in Colors_Domain:\n",
    "            flag=True\n",
    "            for neighbour in Graph[region]:\n",
    "                if ColorsAssigned[neighbour]==color:\n",
    "                    flag=False\n",
    "                    break\n",
    "            if flag == True:\n",
    "                ColorsAssigned[region]=color\n",
    "                break\n",
    "                \n",
    "        if flag ==False:\n",
    "            print(f\"No Color left for{region}\")\n",
    "        \n",
    "\n",
    "for name in ColorsAssigned.keys():\n",
    "    print(name,\"\\t:     \",ColorsAssigned[name])\n",
    "        "
   ]
  },
  {
   "cell_type": "markdown",
   "id": "e16e4d77",
   "metadata": {},
   "source": [
    "<div>\n",
    "    <h1> <font color=\"red\">  Lab 09  </font></h1>\n",
    "</div>"
   ]
  },
  {
   "cell_type": "markdown",
   "id": "440f471f",
   "metadata": {},
   "source": [
    "### Task 2: Arc Consistency, Backtracking Search and Forward Checking "
   ]
  },
  {
   "cell_type": "code",
   "execution_count": 156,
   "id": "1c8ca306",
   "metadata": {},
   "outputs": [
    {
     "name": "stdout",
     "output_type": "stream",
     "text": [
      "\n",
      "Correct Colors have been Assigned to all the States\n",
      "\n",
      "SA\t: Red\n",
      "NT\t: Green\n",
      "Q\t: Blue\n",
      "NSW\t: Green\n",
      "WA\t: Blue\n",
      "V\t: Blue\n",
      "T\t: Red\n"
     ]
    }
   ],
   "source": [
    "from collections import deque\n",
    "\n",
    "Graph = {\n",
    "    \"WA\": [\"NT\", \"SA\"],\n",
    "    \"NT\": [\"WA\", \"SA\", \"Q\"],\n",
    "    \"Q\": [\"NT\", \"NSW\", \"SA\"],\n",
    "    \"NSW\": [\"Q\", \"V\", \"SA\"],\n",
    "    \"V\": [\"NSW\", \"SA\"],\n",
    "    \"SA\": [\"WA\", \"NT\", \"Q\", \"NSW\", \"V\"],\n",
    "    \"T\": []\n",
    "}\n",
    "\n",
    "\n",
    "# AC-3 Algorithm\n",
    "def ac3(domains):\n",
    "    queue = deque([(xi, xj) for xi in Graph for xj in Graph[xi]])\n",
    "    \n",
    "    while queue:\n",
    "        (xi, xj) = queue.popleft()\n",
    "        if revise(domains, xi, xj):\n",
    "            if not domains[xi]:\n",
    "                return False\n",
    "            for xk in Graph[xi]:\n",
    "                if xk != xj:\n",
    "                    queue.append((xk, xi))\n",
    "    return True\n",
    "\n",
    "def revise(domains, xi, xj):\n",
    "    revised = False\n",
    "    for x in domains[xi][:]:\n",
    "        if not any(y != x for y in domains[xj]):\n",
    "            domains[xi].remove(x)\n",
    "            revised = True\n",
    "    return revised\n",
    "\n",
    "\n",
    "def backtracking_search(domains):\n",
    "    return backtrack({}, domains)\n",
    "\n",
    "def backtrack(assignment, domains):\n",
    "    if len(assignment) == len(Graph):\n",
    "        return assignment\n",
    "    \n",
    "    var = select_unassigned_variable(assignment, domains)\n",
    "    for value in order_domain_values(var, domains):\n",
    "        if is_consistent(var, value, assignment):\n",
    "            assignment[var] = value\n",
    "            \n",
    "            local_domains = forward_checking(var, value, domains) # - - - -  Forward checking\n",
    "            result = backtrack(assignment, local_domains)\n",
    "            if result:\n",
    "                return result\n",
    "            assignment.pop(var)\n",
    "    return None\n",
    "\n",
    "def select_unassigned_variable(assignment, domains):\n",
    "    # Minimum Remaining Values heuristic\n",
    "    unassigned_vars = [v for v in Graph if v not in assignment]\n",
    "    return min(unassigned_vars, key=lambda var: (len(domains[var]), -degree_heuristic(var, assignment)))\n",
    "\n",
    "def degree_heuristic(var, assignment):\n",
    "    return sum(1 for neighbor in Graph[var] if neighbor not in assignment)\n",
    "\n",
    "def order_domain_values(var, domains):\n",
    "    # (LCV) heuristic\n",
    "    return sorted(domains[var], key=lambda val: count_conflicts(var, val, domains))\n",
    "\n",
    "def count_conflicts(var, value, domains):\n",
    "    count = 0\n",
    "    for neighbor in Graph[var]:\n",
    "        if value in domains[neighbor]:\n",
    "            count += 1\n",
    "    return count\n",
    "\n",
    "def is_consistent(var, value, assignment):\n",
    "    for neighbor in Graph[var]:\n",
    "        if neighbor in assignment and assignment[neighbor] == value:\n",
    "            return False\n",
    "    return True\n",
    "\n",
    "def forward_checking(var, value, domains):\n",
    "    local_domains = {k: list(v) for k, v in domains.items()}\n",
    "    for neighbor in Graph[var]:\n",
    "        if value in local_domains[neighbor]:\n",
    "            local_domains[neighbor].remove(value)\n",
    "    return local_domains\n",
    "\n",
    "domains = {\n",
    "        \"WA\": [\"Red\", \"Green\", \"Blue\"],\n",
    "        \"NT\": [\"Red\", \"Green\", \"Blue\"],\n",
    "        \"Q\": [\"Red\", \"Green\", \"Blue\"],\n",
    "        \"NSW\": [\"Red\", \"Green\", \"Blue\"],\n",
    "        \"V\": [\"Red\", \"Green\", \"Blue\"],\n",
    "        \"SA\": [\"Red\", \"Green\", \"Blue\"],\n",
    "        \"T\": [\"Red\", \"Green\", \"Blue\"]\n",
    "    }\n",
    "\n",
    "ac3(domains)\n",
    "solution = backtracking_search(domains)\n",
    "\n",
    "if solution:\n",
    "    print(\"\\nCorrect Colors have been Assigned to all the States\\n\")\n",
    "    for state, color in solution.items():\n",
    "        print(f\"{state}\\t: {color}\")\n",
    "else:\n",
    "    print(\"\\nNo Solution Found\")\n"
   ]
  },
  {
   "cell_type": "markdown",
   "id": "419b0952",
   "metadata": {},
   "source": [
    "<div>\n",
    "    <h1> <font color=\"red\">  Lab 10  </font></h1>\n",
    "</div>"
   ]
  },
  {
   "cell_type": "markdown",
   "id": "e991e611",
   "metadata": {},
   "source": [
    "### Task 1: Propositional Logic (Part A)"
   ]
  },
  {
   "cell_type": "code",
   "execution_count": 157,
   "id": "31aa2924",
   "metadata": {},
   "outputs": [
    {
     "name": "stdout",
     "output_type": "stream",
     "text": [
      "~P \t: [False, False, True, True] \n",
      "\n",
      "P∧Q \t: [True, False, False, False] \n",
      "\n",
      "P∨Q \t: [True, True, True, False] \n",
      "\n",
      "P⇒Q \t: [True, False, True, True] \n",
      "\n",
      "P⇔Q \t: [True, False, False, True] \n",
      "\n"
     ]
    }
   ],
   "source": [
    "# CODE HERE\n",
    "\n",
    "Literals={\n",
    "    \"P\":[True,True,False,False],\n",
    "    \"Q\":[True,False,True,False]\n",
    "}\n",
    "\n",
    "TruthTable={\n",
    "    \"~P\":[],\n",
    "    \"P∧Q\":[],\n",
    "    \"P∨Q\":[],\n",
    "    \"P⇒Q\":[],\n",
    "    \"P⇔Q\":[]\n",
    "}\n",
    "\n",
    "def negation(c):\n",
    "    return not c\n",
    "\n",
    "def conjunction(p,q):\n",
    "    if p==True and q==True:\n",
    "        return True\n",
    "    else:\n",
    "        return False\n",
    "    \n",
    "def disjunction(p,q):\n",
    "    if p==False and q==False:\n",
    "        return False\n",
    "    else:\n",
    "        return True\n",
    "    \n",
    "def implies(p,q):\n",
    "    if p==True and q==False:\n",
    "        return False\n",
    "    else:\n",
    "        return True\n",
    "\n",
    "def bidirection(p,q):\n",
    "    if p==q:\n",
    "        return True\n",
    "    else:\n",
    "        return False\n",
    "    \n",
    "    \n",
    "\n",
    "\n",
    "for key in TruthTable:\n",
    "    \n",
    "    str=key\n",
    "    for i in range(0,len(str)):\n",
    "        \n",
    "        if str[i]==\"~\":\n",
    "            for p in Literals[str[i+1]]:\n",
    "                TruthTable[key].append(negation(p))\n",
    "                \n",
    "        elif str[i]=='∧':\n",
    "            for j in range(0,4):\n",
    "                p=Literals[str[i-1]][j]\n",
    "                q=Literals[str[i+1]][j]\n",
    "                TruthTable[key].append(conjunction(p,q))\n",
    "        \n",
    "        elif str[i]=='∨':\n",
    "            for j in range(0,4):\n",
    "                p=Literals[str[i-1]][j]\n",
    "                q=Literals[str[i+1]][j]\n",
    "                TruthTable[key].append(disjunction(p,q))\n",
    "                \n",
    "        elif str[i]=='⇒':\n",
    "            for j in range(0,4):\n",
    "                p=Literals[str[i-1]][j]\n",
    "                q=Literals[str[i+1]][j]\n",
    "                TruthTable[key].append(implies(p,q))\n",
    "        \n",
    "        elif str[i]=='⇔':\n",
    "            for j in range(0,4):\n",
    "                p=Literals[str[i-1]][j]\n",
    "                q=Literals[str[i+1]][j]\n",
    "                TruthTable[key].append(bidirection(p,q))\n",
    "\n",
    "for key in TruthTable:\n",
    "    print(key,\"\\t:\",TruthTable[key],\"\\n\")"
   ]
  },
  {
   "cell_type": "markdown",
   "id": "9488e079",
   "metadata": {},
   "source": [
    "### Task 1: Propositional Logic (Part B)"
   ]
  },
  {
   "cell_type": "code",
   "execution_count": 158,
   "id": "f4d70ea4",
   "metadata": {},
   "outputs": [
    {
     "name": "stdout",
     "output_type": "stream",
     "text": [
      "~P:True\n",
      "~P:True\n",
      "~P:False\n",
      "~P:False\n",
      "\n",
      "\n",
      "P v Q :False\n",
      "P v Q :True\n",
      "P v Q :True\n",
      "P v Q :True\n",
      "\n",
      "\n",
      "P & Q :True\n",
      "P & Q :True\n",
      "P & Q :True\n",
      "P & Q :False\n",
      "\n",
      "\n",
      "P==>Q :True\n",
      "P==>Q :True\n",
      "P==>Q :False\n",
      "P==>Q :True\n",
      "\n",
      "\n",
      "P<=>Q :True\n",
      "P<=>Q :False\n",
      "P<=>Q :False\n",
      "P<=>Q :True\n",
      "\n",
      "\n"
     ]
    }
   ],
   "source": [
    "# CODE HERE\n",
    "#pip install ipythonblocks\n",
    "from logic4e import *\n",
    "from utils4e import *\n",
    "\n",
    "P = Symbol('P')\n",
    "Q = Symbol('Q')\n",
    "\n",
    "notP=~(P)\n",
    "notQ=~(Q)\n",
    "PandQ=~(P&Q)\n",
    "PorQ=(P|Q)\n",
    "PimpQ=(P| '==>'|Q)\n",
    "PbiQ=(P| '<=>'|Q)\n",
    "\n",
    "models = [\n",
    "    {P: False, Q: False},\n",
    "    {P: False, Q: True},\n",
    "    {P: True, Q: False},\n",
    "    {P: True, Q: True}\n",
    "]\n",
    "\n",
    "\n",
    "for model in models:\n",
    "    print(f\"~P:{pl_true(notP, model)}\")\n",
    "\n",
    "print(\"\\n\")\n",
    "\n",
    "for model in models:\n",
    "    print(f'P v Q :{pl_true(PorQ,model)}')\n",
    "print(\"\\n\")\n",
    "for model in models:\n",
    "    print(f'P & Q :{pl_true(PandQ,model)}')\n",
    "print(\"\\n\")\n",
    "for model in models:\n",
    "    print(f'P==>Q :{pl_true(PimpQ,model)}')\n",
    "print(\"\\n\")\n",
    "for model in models:\n",
    "    print(f'P<=>Q :{pl_true(PbiQ,model)}')\n",
    "print(\"\\n\")"
   ]
  },
  {
   "cell_type": "markdown",
   "id": "f56307e2",
   "metadata": {},
   "source": [
    "### Task 2: Inference Rules"
   ]
  },
  {
   "cell_type": "code",
   "execution_count": 159,
   "id": "f6341722",
   "metadata": {},
   "outputs": [
    {
     "name": "stdout",
     "output_type": "stream",
     "text": [
      "Example 1: I am not sleepy (¬P)\n",
      "Example 2: Today is Monday (Q)\n",
      "Example 3: I have vanilla or chocolate ice-cream\n"
     ]
    }
   ],
   "source": [
    "# CODE HERE\n",
    "def modus_tollens(p_implies_q, not_q):\n",
    "    \"\"\"\n",
    "    Modus Tollens:  P -> Q \n",
    "                    ~Q \n",
    "                    ------\n",
    "                    ~P\n",
    "    \"\"\"\n",
    "    if p_implies_q and not_q:\n",
    "        return True\n",
    "    return False\n",
    "\n",
    "def disjunctive_syllogism(p_or_q, not_p):\n",
    "    \"\"\"\n",
    "    Disjunctive Syllogism: \n",
    "                    P v Q\n",
    "                    ~P\n",
    "                    ------\n",
    "                    Q\n",
    "    \"\"\"\n",
    "    if p_or_q and not_p:\n",
    "        return True\n",
    "    return False\n",
    "\n",
    "def addition(p,q):\n",
    "    \"\"\"\n",
    "    Addition: If P and Q, then P or Q.\n",
    "    \"\"\"\n",
    "    if p==True and q== True:\n",
    "        return True\n",
    "\n",
    "\n",
    "p_implies_q = True  # P -> Q: \"If I am sleepy then I go to bed\"\n",
    "not_q = True        # ¬Q: \"I do not go to bed\"\n",
    "\n",
    "if modus_tollens(p_implies_q, not_q):\n",
    "    print(\"Example 1: I am not sleepy (¬P)\")\n",
    "\n",
    "\n",
    "\n",
    "p_or_q = True  # P ∨ Q: \"Today is Sunday or Monday\"\n",
    "not_p = True   # ¬P:    \"Today is not Sunday\"\n",
    "\n",
    "if disjunctive_syllogism(p_or_q, not_p):\n",
    "    print(\"Example 2: Today is Monday (Q)\")\n",
    "\n",
    "\n",
    "\n",
    "p = True  # P: I have a vanilla ice-cream\n",
    "q= True # Q: I have Choclate ice-cream\n",
    "\n",
    "if addition(p,q):\n",
    "    print(\"Example 3: I have vanilla or chocolate ice-cream\")"
   ]
  },
  {
   "cell_type": "markdown",
   "id": "4cfa8975",
   "metadata": {},
   "source": [
    "<div>\n",
    "    <h1> <font color=\"red\">  Lab 11  </font></h1>\n",
    "</div>"
   ]
  },
  {
   "cell_type": "markdown",
   "id": "fedb7e65",
   "metadata": {},
   "source": [
    "### Task 1: Resolution with Refutation"
   ]
  },
  {
   "cell_type": "code",
   "execution_count": 160,
   "id": "145eb645",
   "metadata": {},
   "outputs": [
    {
     "name": "stdout",
     "output_type": "stream",
     "text": [
      "[(B | C)]\n",
      "[]\n",
      "[(C | A)]\n",
      "[~A]\n",
      "[~B]\n",
      "\n",
      "\tANSWER:  True\n"
     ]
    }
   ],
   "source": [
    "from logic4e import *\n",
    "\n",
    "A = expr('B | A')\n",
    "B = expr('~A | C')\n",
    "C = expr('C | ~B')\n",
    "\n",
    "Conclusion= expr('C')\n",
    "NEGATED=expr('~C')\n",
    "\n",
    "KNOWLEDGE_Base=PropKB()\n",
    "\n",
    "KNOWLEDGE_Base.tell(A)\n",
    "KNOWLEDGE_Base.tell(B)\n",
    "KNOWLEDGE_Base.tell(C)\n",
    "KNOWLEDGE_Base.tell(NEGATED)\n",
    "\n",
    "\n",
    "print(pl_resolve(A,B))\n",
    "print(pl_resolve(B,C))\n",
    "print(pl_resolve(A,C))\n",
    "print(pl_resolve(B,NEGATED))\n",
    "print(pl_resolve(NEGATED,C))\n",
    "\n",
    "print(\"\\n\\tANSWER: \",pl_resolution(KNOWLEDGE_Base,Conclusion))"
   ]
  },
  {
   "cell_type": "markdown",
   "id": "83a2cdf4",
   "metadata": {},
   "source": [
    "### Task 2: Proof with First-order-Logic (FoL)"
   ]
  },
  {
   "cell_type": "code",
   "execution_count": 161,
   "id": "3ccdbc32",
   "metadata": {},
   "outputs": [
    {
     "name": "stdout",
     "output_type": "stream",
     "text": [
      "Criminal(West) is true.\n"
     ]
    }
   ],
   "source": [
    "from logic4e import *\n",
    "from utils4e import *\n",
    "\n",
    "A = expr(\"(American(x) & Weapon(y) & Sells(x, y, z) & Hostile(z)) ==> Criminal(x)\")\n",
    "B = expr(\"Enemy(Nono, America)\")\n",
    "C = expr(\"Owns(Nono, M1)\")\n",
    "D = expr(\"Missile(M1)\")\n",
    "E = expr(\"(Missile(x) & Owns(Nono, x)) ==> Sells(West, x, Nono)\")\n",
    "F = expr(\"American(West)\")\n",
    "G = expr(\"Missile(x) ==> Weapon(x)\")\n",
    "\n",
    "kb = FolKB()\n",
    "\n",
    "kb.tell(A)\n",
    "kb.tell(B)\n",
    "kb.tell(C)\n",
    "kb.tell(D)\n",
    "kb.tell(E)\n",
    "kb.tell(F)\n",
    "kb.tell(G)\n",
    "\n",
    "kb.tell(expr(\"Enemy(x, America) ==> Hostile(x)\"))\n",
    "\n",
    "                   \n",
    "goal = expr(\"Criminal(West)\")   #-------goal statement\n",
    "results = fol_fc_ask(kb, goal)\n",
    "\n",
    "if results:                     #------ Goal is proven\n",
    "    print(\"Criminal(West) is true.\")\n",
    "else:\n",
    "    print(\"Criminal(West) is false or undetermined.\")"
   ]
  },
  {
   "cell_type": "markdown",
   "id": "0eb249cc",
   "metadata": {},
   "source": [
    "### Task 3: Propositional vs. Frist-Order Inference"
   ]
  },
  {
   "cell_type": "code",
   "execution_count": 162,
   "id": "3ad0e408",
   "metadata": {},
   "outputs": [
    {
     "name": "stdout",
     "output_type": "stream",
     "text": [
      "Is John a King? True\n",
      "Is Richard a Person? True\n",
      "Is John a Person (from being a King)? True\n",
      "Is John Evil? True\n"
     ]
    }
   ],
   "source": [
    "from logic4e import *\n",
    "from utils4e import *\n",
    "\n",
    "kb = FolKB()   # --- Fol Knowledge Base\n",
    "\n",
    "#  all greedy kings are evil\n",
    "kb.tell(expr('King(x) & Greedy(x) ==> Evil(x)'))\n",
    "\n",
    "kb.tell(expr('King(John)'))\n",
    "kb.tell(expr('Greedy(John)'))\n",
    "kb.tell(expr('King(Richard)'))\n",
    "\n",
    "#  All kings are persons\n",
    "kb.tell(expr('King(x) ==> Person(x)'))\n",
    "\n",
    "john_is_king = kb.ask(expr('King(John)'))\n",
    "print(\"Is John a King?\", john_is_king is not False)\n",
    "\n",
    "richard_is_person = kb.ask(expr('Person(Richard)'))\n",
    "print(\"Is Richard a Person?\", richard_is_person is not False)\n",
    "\n",
    "john_is_person = kb.ask(expr('Person(John)'))\n",
    "print(\"Is John a Person (from being a King)?\", john_is_person is not False)\n",
    "\n",
    "# confirm if John is evil\n",
    "john_is_evil = kb.ask(expr('Evil(John)'))\n",
    "print(\"Is John Evil?\", john_is_evil is not False)"
   ]
  },
  {
   "cell_type": "markdown",
   "id": "1bda788e",
   "metadata": {},
   "source": [
    "<div>\n",
    "    <h1> <font color=\"red\">  Lab 12  </font></h1>\n",
    "</div>"
   ]
  },
  {
   "cell_type": "markdown",
   "id": "9ead6cf2",
   "metadata": {},
   "source": [
    "### Task 1: Wumpus World (Knowledge base and Inference Procedure)"
   ]
  },
  {
   "cell_type": "code",
   "execution_count": 163,
   "id": "94f8ebe1",
   "metadata": {},
   "outputs": [
    {
     "name": "stdout",
     "output_type": "stream",
     "text": [
      "Is there Pit at P11:  False\n",
      "Is there Breeze in B21:  True\n"
     ]
    }
   ],
   "source": [
    "from logic import PropKB, expr\n",
    "\n",
    "wumpus_kb = PropKB()\n",
    "\n",
    "wumpus_kb.tell(~expr('P11'))\n",
    "wumpus_kb.tell(expr('B11 <=> (P12 | P21)'))\n",
    "wumpus_kb.tell(expr('B21 <=> (P11 | P22 | P31)'))\n",
    "wumpus_kb.tell(~expr('B11'))\n",
    "wumpus_kb.tell(expr('B21'))\n",
    "\n",
    "print(\"Is there Pit at P11: \", wumpus_kb.ask_if_true(expr('P11')))\n",
    "print(\"Is there Breeze in B21: \", wumpus_kb.ask_if_true(expr('B21')))"
   ]
  },
  {
   "cell_type": "markdown",
   "id": "9dfafc0b",
   "metadata": {},
   "source": [
    "### Task 2: Propositional Logic"
   ]
  },
  {
   "cell_type": "code",
   "execution_count": 164,
   "id": "f92ab968",
   "metadata": {},
   "outputs": [
    {
     "name": "stdout",
     "output_type": "stream",
     "text": [
      "not Start: \t False\n",
      "Battery issue: \t False\n",
      "no Fuel: \t True\n"
     ]
    },
    {
     "data": {
      "text/plain": [
       "False"
      ]
     },
     "execution_count": 164,
     "metadata": {},
     "output_type": "execute_result"
    }
   ],
   "source": [
    "# CODE HERE\n",
    "\n",
    "def is_car_issue_valid(Start, Battery, Fuel):\n",
    "    print(\"not Start: \\t\",Start)\n",
    "    print(\"Battery issue: \\t\",Battery)\n",
    "    print(\"no Fuel: \\t\",Fuel)\n",
    "    \n",
    "    if (Battery == Fuel and Start != Battery):\n",
    "        return False\n",
    "    elif (Battery or Fuel) ==True and Start ==False:\n",
    "        return False\n",
    "    \n",
    "    return True\n",
    "    \n",
    "is_car_issue_valid(False,False,True)"
   ]
  },
  {
   "cell_type": "markdown",
   "id": "de4f002b",
   "metadata": {},
   "source": [
    "### Task 3: First-order Logic"
   ]
  },
  {
   "cell_type": "code",
   "execution_count": 165,
   "id": "4e69eafd",
   "metadata": {},
   "outputs": [
    {
     "name": "stdout",
     "output_type": "stream",
     "text": [
      "\n",
      "Abdullah is a Human, Thus Abdullah is Mortal\n",
      "\n",
      "Hassan is a Human, Thus Hassan is Mortal\n",
      "\n",
      "Ahsan is a Human, Thus Ahsan is Mortal\n"
     ]
    }
   ],
   "source": [
    "# CODE HERE\n",
    "class Human:\n",
    "    def __init__(self,Name=None):\n",
    "        self.Name=Name\n",
    "    \n",
    "    def is_mortal(self):\n",
    "        print(f\"\\n{self.Name} is a Human, Thus {self.Name} is Mortal\")\n",
    "\n",
    "def all_humans_mortal(Human_list):\n",
    "    for human in Human_list:\n",
    "        human.is_mortal()\n",
    "\n",
    "        \n",
    "        \n",
    "h1=Human(\"Abdullah\")\n",
    "h2=Human(\"Hassan\")\n",
    "h3=Human(\"Ahsan\")\n",
    "\n",
    "HumanList=[h1,h2,h3]\n",
    "\n",
    "all_humans_mortal(HumanList)"
   ]
  },
  {
   "cell_type": "markdown",
   "id": "a3b396be",
   "metadata": {},
   "source": [
    "<div>\n",
    "    <h1> <font color=\"red\">  Lab 13  </font></h1>\n",
    "</div>"
   ]
  },
  {
   "cell_type": "code",
   "execution_count": 166,
   "id": "dd3afbe4",
   "metadata": {},
   "outputs": [],
   "source": [
    "# Quiz"
   ]
  },
  {
   "cell_type": "markdown",
   "id": "9cc07a2c",
   "metadata": {},
   "source": [
    "<div>\n",
    "    <h1> <font color=\"red\">  Lab 14  </font></h1>\n",
    "</div>"
   ]
  },
  {
   "cell_type": "markdown",
   "id": "b3b8556b",
   "metadata": {},
   "source": [
    "### TASK - 01 : Customer Segmentation with K-Means"
   ]
  },
  {
   "cell_type": "code",
   "execution_count": 167,
   "id": "1f123016",
   "metadata": {},
   "outputs": [
    {
     "name": "stdout",
     "output_type": "stream",
     "text": [
      "   customer_id  gender  age  annual_income  spending_score\n",
      "0            1    Male   19             15              39\n",
      "1            2    Male   21             15              81\n",
      "2            3  Female   20             16               6\n",
      "3            4  Female   23             16              77\n",
      "4            5  Female   31             17              40\n",
      "<class 'pandas.core.frame.DataFrame'>\n",
      "RangeIndex: 200 entries, 0 to 199\n",
      "Data columns (total 5 columns):\n",
      " #   Column          Non-Null Count  Dtype \n",
      "---  ------          --------------  ----- \n",
      " 0   customer_id     200 non-null    int64 \n",
      " 1   gender          200 non-null    object\n",
      " 2   age             200 non-null    int64 \n",
      " 3   annual_income   200 non-null    int64 \n",
      " 4   spending_score  200 non-null    int64 \n",
      "dtypes: int64(4), object(1)\n",
      "memory usage: 7.9+ KB\n",
      "None\n"
     ]
    },
    {
     "name": "stderr",
     "output_type": "stream",
     "text": [
      "D:\\Anaconda\\Lib\\site-packages\\sklearn\\cluster\\_kmeans.py:1436: UserWarning: KMeans is known to have a memory leak on Windows with MKL, when there are less chunks than available threads. You can avoid it by setting the environment variable OMP_NUM_THREADS=1.\n",
      "  warnings.warn(\n",
      "D:\\Anaconda\\Lib\\site-packages\\sklearn\\cluster\\_kmeans.py:1436: UserWarning: KMeans is known to have a memory leak on Windows with MKL, when there are less chunks than available threads. You can avoid it by setting the environment variable OMP_NUM_THREADS=1.\n",
      "  warnings.warn(\n",
      "D:\\Anaconda\\Lib\\site-packages\\sklearn\\cluster\\_kmeans.py:1436: UserWarning: KMeans is known to have a memory leak on Windows with MKL, when there are less chunks than available threads. You can avoid it by setting the environment variable OMP_NUM_THREADS=1.\n",
      "  warnings.warn(\n",
      "D:\\Anaconda\\Lib\\site-packages\\sklearn\\cluster\\_kmeans.py:1436: UserWarning: KMeans is known to have a memory leak on Windows with MKL, when there are less chunks than available threads. You can avoid it by setting the environment variable OMP_NUM_THREADS=1.\n",
      "  warnings.warn(\n",
      "D:\\Anaconda\\Lib\\site-packages\\sklearn\\cluster\\_kmeans.py:1436: UserWarning: KMeans is known to have a memory leak on Windows with MKL, when there are less chunks than available threads. You can avoid it by setting the environment variable OMP_NUM_THREADS=1.\n",
      "  warnings.warn(\n",
      "D:\\Anaconda\\Lib\\site-packages\\sklearn\\cluster\\_kmeans.py:1436: UserWarning: KMeans is known to have a memory leak on Windows with MKL, when there are less chunks than available threads. You can avoid it by setting the environment variable OMP_NUM_THREADS=1.\n",
      "  warnings.warn(\n",
      "D:\\Anaconda\\Lib\\site-packages\\sklearn\\cluster\\_kmeans.py:1436: UserWarning: KMeans is known to have a memory leak on Windows with MKL, when there are less chunks than available threads. You can avoid it by setting the environment variable OMP_NUM_THREADS=1.\n",
      "  warnings.warn(\n",
      "D:\\Anaconda\\Lib\\site-packages\\sklearn\\cluster\\_kmeans.py:1436: UserWarning: KMeans is known to have a memory leak on Windows with MKL, when there are less chunks than available threads. You can avoid it by setting the environment variable OMP_NUM_THREADS=1.\n",
      "  warnings.warn(\n",
      "D:\\Anaconda\\Lib\\site-packages\\sklearn\\cluster\\_kmeans.py:1436: UserWarning: KMeans is known to have a memory leak on Windows with MKL, when there are less chunks than available threads. You can avoid it by setting the environment variable OMP_NUM_THREADS=1.\n",
      "  warnings.warn(\n",
      "D:\\Anaconda\\Lib\\site-packages\\sklearn\\cluster\\_kmeans.py:1436: UserWarning: KMeans is known to have a memory leak on Windows with MKL, when there are less chunks than available threads. You can avoid it by setting the environment variable OMP_NUM_THREADS=1.\n",
      "  warnings.warn(\n"
     ]
    },
    {
     "data": {
      "image/png": "[encoded data removed]",
      "text/plain": [
       "<Figure size 640x480 with 1 Axes>"
      ]
     },
     "metadata": {},
     "output_type": "display_data"
    },
    {
     "name": "stderr",
     "output_type": "stream",
     "text": [
      "D:\\Anaconda\\Lib\\site-packages\\sklearn\\cluster\\_kmeans.py:1436: UserWarning: KMeans is known to have a memory leak on Windows with MKL, when there are less chunks than available threads. You can avoid it by setting the environment variable OMP_NUM_THREADS=1.\n",
      "  warnings.warn(\n"
     ]
    },
    {
     "data": {
      "image/png": "[encoded data removed]",
      "text/plain": [
       "<Figure size 640x480 with 1 Axes>"
      ]
     },
     "metadata": {},
     "output_type": "display_data"
    }
   ],
   "source": [
    "import pandas as pd\n",
    "import numpy as np\n",
    "import seaborn as sns\n",
    "import matplotlib.pyplot as plt\n",
    "from sklearn.cluster import KMeans\n",
    "\n",
    "#load the data set\n",
    "data = pd.read_csv('Mall_Customers.csv')\n",
    "print(data.head()) #display first few rows \n",
    "print(data.info())\n",
    "\n",
    "X= data[['annual_income', 'spending_score']]\n",
    "#using elbow method \n",
    "wcss = []\n",
    "for i in range(1, 11):\n",
    "    k_means = KMeans(n_clusters=i, n_init=\"auto\")\n",
    "    k_means.fit(X)\n",
    "    wcss.append(k_means.inertia_)    \n",
    "# the elbow curve\n",
    "plt.plot(range(1, 11), wcss, linewidth=2.5, color=\"red\", marker=\"8\")\n",
    "plt.title(\"Elbow Curve\")\n",
    "plt.xlabel(\"Number of clusters (values of k)\")\n",
    "plt.ylabel(\"WCSS values\")\n",
    "plt.xticks(np.arange(1, 11, 1))\n",
    "plt.show()\n",
    "\n",
    "# taking k = 5\n",
    "k_means = KMeans(n_clusters=5, n_init=\"auto\")\n",
    "# fitting the input data\n",
    "k_means.fit(X)\n",
    "# predicting the labels of the input data\n",
    "y_pred = k_means.predict(X)\n",
    "# adding the labels to a column named label\n",
    "data[\"label\"] = y_pred\n",
    "data.head()\n",
    "\n",
    "# scatterplot of the clusters using seaborn\n",
    "colors = [\"red\", \"green\", \"blue\", \"gold\", \"purple\"]\n",
    "sns.scatterplot(x=\"annual_income\", y=\"spending_score\", hue=\"label\", palette=colors, legend=\"full\", data=data, s=10)\n",
    "plt.xlabel('Annual Income (in k$)'), plt.ylabel('Spending Score (1-100)') \n",
    "plt.title('Spending Score (1-100) vs Annual Income (in k$)')\n",
    "plt.show()"
   ]
  },
  {
   "cell_type": "markdown",
   "id": "a190fb9e",
   "metadata": {},
   "source": [
    "### TASK - 02 : Spending Behavior Segmentation with K-Means"
   ]
  },
  {
   "cell_type": "code",
   "execution_count": 168,
   "id": "936504d2",
   "metadata": {},
   "outputs": [
    {
     "name": "stdout",
     "output_type": "stream",
     "text": [
      "  CUST_ID      BALANCE  BALANCE_FREQUENCY  PURCHASES  ONEOFF_PURCHASES  \\\n",
      "0  C10001    40.900749           0.818182      95.40              0.00   \n",
      "1  C10002  3202.467416           0.909091       0.00              0.00   \n",
      "2  C10003  2495.148862           1.000000     773.17            773.17   \n",
      "3  C10004  1666.670542           0.636364    1499.00           1499.00   \n",
      "4  C10005   817.714335           1.000000      16.00             16.00   \n",
      "\n",
      "   INSTALLMENTS_PURCHASES  CASH_ADVANCE  PURCHASES_FREQUENCY  \\\n",
      "0                    95.4      0.000000             0.166667   \n",
      "1                     0.0   6442.945483             0.000000   \n",
      "2                     0.0      0.000000             1.000000   \n",
      "3                     0.0    205.788017             0.083333   \n",
      "4                     0.0      0.000000             0.083333   \n",
      "\n",
      "   ONEOFF_PURCHASES_FREQUENCY  PURCHASES_INSTALLMENTS_FREQUENCY  \\\n",
      "0                    0.000000                          0.083333   \n",
      "1                    0.000000                          0.000000   \n",
      "2                    1.000000                          0.000000   \n",
      "3                    0.083333                          0.000000   \n",
      "4                    0.083333                          0.000000   \n",
      "\n",
      "   CASH_ADVANCE_FREQUENCY  CASH_ADVANCE_TRX  PURCHASES_TRX  CREDIT_LIMIT  \\\n",
      "0                0.000000                 0              2        1000.0   \n",
      "1                0.250000                 4              0        7000.0   \n",
      "2                0.000000                 0             12        7500.0   \n",
      "3                0.083333                 1              1        7500.0   \n",
      "4                0.000000                 0              1        1200.0   \n",
      "\n",
      "      PAYMENTS  MINIMUM_PAYMENTS  PRC_FULL_PAYMENT  TENURE  \n",
      "0   201.802084        139.509787          0.000000      12  \n",
      "1  4103.032597       1072.340217          0.222222      12  \n",
      "2   622.066742        627.284787          0.000000      12  \n",
      "3     0.000000               NaN          0.000000      12  \n",
      "4   678.334763        244.791237          0.000000      12  \n",
      "<class 'pandas.core.frame.DataFrame'>\n",
      "RangeIndex: 8950 entries, 0 to 8949\n",
      "Data columns (total 18 columns):\n",
      " #   Column                            Non-Null Count  Dtype  \n",
      "---  ------                            --------------  -----  \n",
      " 0   CUST_ID                           8950 non-null   object \n",
      " 1   BALANCE                           8950 non-null   float64\n",
      " 2   BALANCE_FREQUENCY                 8950 non-null   float64\n",
      " 3   PURCHASES                         8950 non-null   float64\n",
      " 4   ONEOFF_PURCHASES                  8950 non-null   float64\n",
      " 5   INSTALLMENTS_PURCHASES            8950 non-null   float64\n",
      " 6   CASH_ADVANCE                      8950 non-null   float64\n",
      " 7   PURCHASES_FREQUENCY               8950 non-null   float64\n",
      " 8   ONEOFF_PURCHASES_FREQUENCY        8950 non-null   float64\n",
      " 9   PURCHASES_INSTALLMENTS_FREQUENCY  8950 non-null   float64\n",
      " 10  CASH_ADVANCE_FREQUENCY            8950 non-null   float64\n",
      " 11  CASH_ADVANCE_TRX                  8950 non-null   int64  \n",
      " 12  PURCHASES_TRX                     8950 non-null   int64  \n",
      " 13  CREDIT_LIMIT                      8949 non-null   float64\n",
      " 14  PAYMENTS                          8950 non-null   float64\n",
      " 15  MINIMUM_PAYMENTS                  8637 non-null   float64\n",
      " 16  PRC_FULL_PAYMENT                  8950 non-null   float64\n",
      " 17  TENURE                            8950 non-null   int64  \n",
      "dtypes: float64(14), int64(3), object(1)\n",
      "memory usage: 1.2+ MB\n",
      "None\n"
     ]
    },
    {
     "data": {
      "image/png": "[encoded data removed]",
      "text/plain": [
       "<Figure size 640x480 with 1 Axes>"
      ]
     },
     "metadata": {},
     "output_type": "display_data"
    },
    {
     "data": {
      "image/png": "[encoded data removed]",
      "text/plain": [
       "<Figure size 640x480 with 1 Axes>"
      ]
     },
     "metadata": {},
     "output_type": "display_data"
    }
   ],
   "source": [
    "import pandas as pd\n",
    "import numpy as np\n",
    "import seaborn as sns\n",
    "import matplotlib.pyplot as plt\n",
    "from sklearn.cluster import KMeans\n",
    "\n",
    "#load the data set\n",
    "data = pd.read_csv('CC General.csv')\n",
    "print(data.head()) #display first few rows \n",
    "print(data.info())\n",
    "\n",
    "X= data[['BALANCE', 'PURCHASES']]\n",
    "#using elbow method \n",
    "wcss = []\n",
    "for i in range(1, 11):\n",
    "    k_means = KMeans(n_clusters=i, n_init=\"auto\")\n",
    "    k_means.fit(X)\n",
    "    wcss.append(k_means.inertia_)    \n",
    "# the elbow curve\n",
    "plt.plot(range(1, 11), wcss, linewidth=2.5, color=\"red\", marker=\"8\")\n",
    "plt.title(\"Elbow Curve\")\n",
    "plt.xlabel(\"Number of clusters (values of k)\")\n",
    "plt.ylabel(\"WCSS values\")\n",
    "plt.xticks(np.arange(1, 11, 1))\n",
    "plt.show()\n",
    "\n",
    "# taking k = 5\n",
    "k_means = KMeans(n_clusters=5, n_init=\"auto\")\n",
    "# fitting the input data\n",
    "k_means.fit(X)\n",
    "# predicting the labels of the input data\n",
    "y_pred = k_means.predict(X)\n",
    "# adding the labels to a column named label\n",
    "data[\"label\"] = y_pred\n",
    "data.head()\n",
    "\n",
    "# scatterplot of the clusters using seaborn\n",
    "colors = [\"red\", \"green\", \"blue\", \"gold\", \"purple\"]\n",
    "sns.scatterplot(x=\"BALANCE\", y=\"PURCHASES\", hue=\"label\", palette=colors, legend=\"full\", data=data, s=10)\n",
    "plt.title('CC GENERAL')\n",
    "plt.show()"
   ]
  },
  {
   "cell_type": "markdown",
   "id": "08e31dc4",
   "metadata": {},
   "source": [
    "<div>\n",
    "    <h1> <font color=\"red\">  Lab 15  </font></h1>\n",
    "</div>"
   ]
  },
  {
   "cell_type": "markdown",
   "id": "cc3be228",
   "metadata": {},
   "source": [
    "### TASK 01 - Neural Network for OR"
   ]
  },
  {
   "cell_type": "code",
   "execution_count": 169,
   "id": "0cab0d8d",
   "metadata": {},
   "outputs": [
    {
     "name": "stdout",
     "output_type": "stream",
     "text": [
      "***** LOGICAL OR *****\n",
      "\n",
      "x\t y\tOutput\n",
      "0 \t 0 \t  0\n",
      "0 \t 1 \t  1\n",
      "1 \t 0 \t  1\n",
      "1 \t 1 \t  1\n"
     ]
    }
   ],
   "source": [
    "import numpy as np\n",
    "\n",
    "class Perceptron(object):\n",
    "    def __init__(self, no_of_inputs, threshold=100, learning_rate=0.01):\n",
    "        self.threshold = threshold\n",
    "        self.learning_rate = learning_rate\n",
    "        self.weights = np.zeros(no_of_inputs + 1)\n",
    "\n",
    "    def train(self, training_inputs, labels):\n",
    "        for _ in range(self.threshold):\n",
    "            for inputs, label in zip(training_inputs, labels): \n",
    "                prediction = self.predict(inputs)\n",
    "                self.weights[1:] += self.learning_rate * (label - prediction) * inputs\n",
    "                self.weights[0] += self.learning_rate * (label - prediction)\n",
    "\n",
    "    def predict(self, inputs):\n",
    "        summation = np.dot(inputs, self.weights[1:]) + self.weights[0]\n",
    "        if summation > 0:\n",
    "            activation = 1\n",
    "        else:\n",
    "            activation = 0        \n",
    "        return activation\n",
    "\n",
    "# Dataset - mimic the behavior of a logical OR.\n",
    "training_inputs = []\n",
    "training_inputs.append(np.array([0, 0]))\n",
    "training_inputs.append(np.array([0, 1]))\n",
    "training_inputs.append(np.array([1, 0]))\n",
    "training_inputs.append(np.array([1, 1]))\n",
    "\n",
    "# Output lables - mimic the behavior of a logical OR.\n",
    "labels = np.array([0, 1, 1, 1])\n",
    "\n",
    "# Training\n",
    "perceptron = Perceptron(2)\n",
    "perceptron.train(training_inputs, labels)\n",
    "\n",
    "# Predictions\n",
    "print('***** LOGICAL OR *****\\n')\n",
    "print(\"x\\t y\\tOutput\")\n",
    "for i in training_inputs:\n",
    "    inputs = np.array(i)\n",
    "    print(inputs[0],'\\t',inputs[1],'\\t ',perceptron.predict(inputs))"
   ]
  },
  {
   "cell_type": "markdown",
   "id": "32cf609d",
   "metadata": {},
   "source": [
    "### TASK 02 - Multilayer Neural Network for XOR"
   ]
  },
  {
   "cell_type": "code",
   "execution_count": 170,
   "id": "a40659dd",
   "metadata": {},
   "outputs": [
    {
     "name": "stdout",
     "output_type": "stream",
     "text": [
      "***** LOGICAL XOR *****\n",
      "\n",
      "x\t y\tOutput\n",
      "0 \t 0 \t  0\n",
      "0 \t 1 \t  1\n",
      "1 \t 0 \t  1\n",
      "1 \t 1 \t  0\n"
     ]
    }
   ],
   "source": [
    "import numpy as np\n",
    "\n",
    "class MultilayerPerceptron:\n",
    "    def __init__(self, input_size, hidden_size, output_size, learning_rate=0.1):\n",
    "        self.input_size = input_size\n",
    "        self.hidden_size = hidden_size\n",
    "        self.output_size = output_size\n",
    "        self.learning_rate = learning_rate\n",
    "\n",
    "        # Initialize weights randomly\n",
    "        self.W1 = np.random.randn(self.input_size, self.hidden_size)\n",
    "        self.b1 = np.zeros(self.hidden_size)\n",
    "        self.W2 = np.random.randn(self.hidden_size, self.output_size)\n",
    "        self.b2 = np.zeros(self.output_size)\n",
    "\n",
    "    def sigmoid(self, x):\n",
    "        return 1 / (1 + np.exp(-x))\n",
    "\n",
    "    def forward(self, X):\n",
    "        # Forward propagation\n",
    "        self.z1 = np.dot(X, self.W1) + self.b1\n",
    "        self.a1 = self.sigmoid(self.z1)\n",
    "        self.z2 = np.dot(self.a1, self.W2) + self.b2\n",
    "        self.a2 = self.sigmoid(self.z2)\n",
    "        return self.a2\n",
    "\n",
    "    def backpropagation(self, X, y, output):\n",
    "        # Backpropagation\n",
    "        delta2 = (output - y) * (output * (1 - output))\n",
    "        delta1 = np.dot(delta2, self.W2.T) * (self.a1 * (1 - self.a1))\n",
    "\n",
    "        # Update weights and biases\n",
    "        self.W2 -= self.learning_rate * np.dot(self.a1.T, delta2)\n",
    "        self.b2 -= self.learning_rate * np.sum(delta2, axis=0)\n",
    "        self.W1 -= self.learning_rate * np.dot(X.T, delta1)\n",
    "        self.b1 -= self.learning_rate * np.sum(delta1, axis=0)\n",
    "\n",
    "    def train(self, X, y, epochs=10000):\n",
    "        for epoch in range(epochs):\n",
    "            output = self.forward(X)\n",
    "            self.backpropagation(X, y, output)\n",
    "\n",
    "    def predict(self, X):\n",
    "        return np.round(self.forward(X)).astype(int)\n",
    "\n",
    "# Training data for XOR\n",
    "training_inputs = np.array([[0, 0], [0, 1], [1, 0], [1, 1]])\n",
    "labels = np.array([[0], [1], [1], [0]])\n",
    "\n",
    "# Create and train the multi-layer perceptron\n",
    "mlp = MultilayerPerceptron(2, 2, 1)\n",
    "mlp.train(training_inputs, labels)\n",
    "    \n",
    "# Predictions\n",
    "print('***** LOGICAL XOR *****\\n')\n",
    "print(\"x\\t y\\tOutput\")\n",
    "for i in training_inputs:\n",
    "    prediction = mlp.predict(i)\n",
    "    print(i[0],'\\t',i[1],'\\t ',prediction[0])"
   ]
  },
  {
   "cell_type": "markdown",
   "id": "984fc115",
   "metadata": {},
   "source": [
    "### TASK 03"
   ]
  },
  {
   "cell_type": "code",
   "execution_count": 171,
   "id": "a9f0ec89",
   "metadata": {},
   "outputs": [
    {
     "name": "stdout",
     "output_type": "stream",
     "text": [
      "Test accuracy: 97.11%\n"
     ]
    }
   ],
   "source": [
    "import numpy as np\n",
    "from sklearn.datasets import load_digits\n",
    "\n",
    "class MultilayerPerceptron:\n",
    "    def __init__(self, input_size, hidden_size, output_size, learning_rate=0.1):\n",
    "        self.input_size = input_size\n",
    "        self.hidden_size = hidden_size\n",
    "        self.output_size = output_size\n",
    "        self.learning_rate = learning_rate\n",
    "\n",
    "        # Initialize weights randomly\n",
    "        self.W1 = np.random.randn(self.input_size, self.hidden_size)\n",
    "        self.b1 = np.zeros(self.hidden_size)\n",
    "        self.W2 = np.random.randn(self.hidden_size, self.output_size)\n",
    "        self.b2 = np.zeros(self.output_size)\n",
    "        \n",
    "    def sigmoid(self, x):\n",
    "        return 1 / (1 + np.exp(-x))\n",
    "        \n",
    "    def forward(self, X):\n",
    "        # Forward propagation\n",
    "        self.z1 = np.dot(X, self.W1) + self.b1\n",
    "        self.a1 = self.sigmoid(self.z1)\n",
    "        self.z2 = np.dot(self.a1, self.W2) + self.b2\n",
    "        self.a2 = self.sigmoid(self.z2)\n",
    "        return self.a2\n",
    "\n",
    "    def backpropagation(self, X, y, output):\n",
    "        # Backpropagation\n",
    "        delta2 = output - np.eye(self.output_size)[y]\n",
    "        delta1 = np.dot(delta2, self.W2.T) * (self.a1 * (1 - self.a1))\n",
    "\n",
    "        # Update weights and biases\n",
    "        self.W2 -= self.learning_rate * np.dot(self.a1.T, delta2)\n",
    "        self.b2 -= self.learning_rate * np.sum(delta2, axis=0)\n",
    "        self.W1 -= self.learning_rate * np.dot(X.T, delta1)\n",
    "        self.b1 -= self.learning_rate * np.sum(delta1, axis=0)\n",
    "\n",
    "    def train(self, X, y, epochs=10000):\n",
    "        for epoch in range(epochs):\n",
    "            output = self.forward(X)\n",
    "            self.backpropagation(X, y, output)\n",
    "\n",
    "    def predict(self, X):\n",
    "        return np.argmax(self.forward(X), axis=1)\n",
    "\n",
    "# Load the digits dataset\n",
    "digits = load_digits()\n",
    "X = digits.data\n",
    "y = digits.target\n",
    "\n",
    "# Normalize the input data\n",
    "X = (X - np.min(X)) / (np.max(X) - np.min(X))\n",
    "\n",
    "# Create and train the multi-layer perceptron\n",
    "mlp = MultilayerPerceptron(input_size=64, hidden_size=128, output_size=10, learning_rate=0.001)\n",
    "mlp.train(X, y, epochs=100)\n",
    "\n",
    "# Evaluate the model on the test data\n",
    "predictions = mlp.predict(X)\n",
    "accuracy = np.mean(predictions == y)\n",
    "print(f'Test accuracy: {accuracy * 100:.2f}%')"
   ]
  }
 ],
 "metadata": {
  "kernelspec": {
   "display_name": "Python 3 (ipykernel)",
   "language": "python",
   "name": "python3"
  },
  "language_info": {
   "codemirror_mode": {
    "name": "ipython",
    "version": 3
   },
   "file_extension": ".py",
   "mimetype": "text/x-python",
   "name": "python",
   "nbconvert_exporter": "python",
   "pygments_lexer": "ipython3",
   "version": "3.11.4"
  }
 },
 "nbformat": 4,
 "nbformat_minor": 5
}
